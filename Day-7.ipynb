{
 "cells": [
  {
   "cell_type": "markdown",
   "source": [
    "## Day 7: Basic Input/Output and Practice\n",
    "\n",
    "- Review Input/Output: Practice more with `input()` and `print()`, and learn about reading and writing to files."
   ],
   "metadata": {
    "collapsed": false
   },
   "id": "3db25d117c00f5c"
  },
  {
   "cell_type": "markdown",
   "source": [
    "### Basic Input/Output\n",
    "Input\n",
    "\n",
    "- The input() function is used to take input from the user. This function reads the user's input as a string.\n",
    "\n",
    "Example:"
   ],
   "metadata": {
    "collapsed": false
   },
   "id": "1fe5b3e389e144db"
  },
  {
   "cell_type": "code",
   "execution_count": 1,
   "outputs": [
    {
     "name": "stdout",
     "output_type": "stream",
     "text": [
      "Your name is Ryan\n"
     ]
    }
   ],
   "source": [
    "name = input(\"Enter your name: \")\n",
    "print(\"Your name is \" + name)"
   ],
   "metadata": {
    "collapsed": false,
    "ExecuteTime": {
     "end_time": "2023-12-16T22:13:47.935094800Z",
     "start_time": "2023-12-16T22:13:33.011439400Z"
    }
   },
   "id": "a0bc812f78f6fdeb"
  },
  {
   "cell_type": "markdown",
   "source": [
    "### Output\n",
    "\n",
    "- The `print()` function is used for output. It sends data to the console and can be used to display strings, numbers, or the value of variables.\n",
    "\n",
    "Example:"
   ],
   "metadata": {
    "collapsed": false
   },
   "id": "97f1595a9548724b"
  },
  {
   "cell_type": "code",
   "execution_count": 2,
   "outputs": [
    {
     "name": "stdout",
     "output_type": "stream",
     "text": [
      "Your age is 25\n"
     ]
    }
   ],
   "source": [
    "age = 25\n",
    "print(\"Your age is\", age)"
   ],
   "metadata": {
    "collapsed": false,
    "ExecuteTime": {
     "end_time": "2023-12-16T22:14:37.530369200Z",
     "start_time": "2023-12-16T22:14:37.486347Z"
    }
   },
   "id": "74d830b461f9b0b2"
  },
  {
   "cell_type": "markdown",
   "source": [
    "## File Handling\n",
    "\n",
    "In addition to standard I/O, understanding how to read from and write to files is essential.\n",
    "\n",
    "- Reading Files: Use the `open()` function with mode `'r'` for reading.\n",
    "\n",
    "Example:"
   ],
   "metadata": {
    "collapsed": false
   },
   "id": "724c259bbd65a7a0"
  },
  {
   "cell_type": "code",
   "execution_count": 6,
   "outputs": [
    {
     "name": "stdout",
     "output_type": "stream",
     "text": [
      "Hello, Python!\n"
     ]
    }
   ],
   "source": [
    "file = open('Programs/myfile.txt', 'r')\n",
    "content = file.read()\n",
    "print(content)\n",
    "file.close()"
   ],
   "metadata": {
    "collapsed": false,
    "ExecuteTime": {
     "end_time": "2023-12-16T22:19:01.342930300Z",
     "start_time": "2023-12-16T22:19:01.326078800Z"
    }
   },
   "id": "f79a68fd2181a7a9"
  },
  {
   "cell_type": "markdown",
   "source": [
    "- Writing Files: Use the `open()` function with mode `'w'` for writing.\n",
    "\n",
    "Example:"
   ],
   "metadata": {
    "collapsed": false
   },
   "id": "fd3a3c29bf078f6c"
  },
  {
   "cell_type": "code",
   "execution_count": 5,
   "outputs": [],
   "source": [
    "file = open('Programs/myfile.txt', 'w')\n",
    "file.write(\"Hello, Python!\")\n",
    "file.close()"
   ],
   "metadata": {
    "collapsed": false,
    "ExecuteTime": {
     "end_time": "2023-12-16T22:18:54.810758Z",
     "start_time": "2023-12-16T22:18:54.760255400Z"
    }
   },
   "id": "84f2fe2a1ae88a84"
  },
  {
   "cell_type": "markdown",
   "source": [
    "## Practice Exercises for Day 7\n",
    "\n",
    "1. Exercise 1: Write a program that asks the user for their name and favorite color, then writes this information to a file.\n",
    "\n",
    "2. Exercise 2: Create a program that reads a file containing a list of names and prints each name on a separate line.\n",
    "\n",
    "3. Exercise 3: Develop a simple diary program where a user can input diary entries, and the program saves them to a file with the date and time of entry."
   ],
   "metadata": {
    "collapsed": false
   },
   "id": "643e945308f42274"
  },
  {
   "cell_type": "markdown",
   "source": [
    "## Tips for Practice\n",
    "\n",
    "- Ensure to always close the files after opening them. Alternatively, use the with statement which automatically handles file closure.\n",
    "- Experiment with different file modes like append `('a')` and read/write `('r+')`.\n",
    "- Be cautious with the write `('w')` mode as it can overwrite existing file contents.\n",
    "- Try to handle potential errors, such as attempting to read a file that doesn't exist."
   ],
   "metadata": {
    "collapsed": false
   },
   "id": "72ba53f262068de8"
  }
 ],
 "metadata": {
  "kernelspec": {
   "display_name": "Python 3",
   "language": "python",
   "name": "python3"
  },
  "language_info": {
   "codemirror_mode": {
    "name": "ipython",
    "version": 2
   },
   "file_extension": ".py",
   "mimetype": "text/x-python",
   "name": "python",
   "nbconvert_exporter": "python",
   "pygments_lexer": "ipython2",
   "version": "2.7.6"
  }
 },
 "nbformat": 4,
 "nbformat_minor": 5
}
