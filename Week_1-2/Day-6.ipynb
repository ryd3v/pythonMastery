{
 "cells": [
  {
   "cell_type": "markdown",
   "source": [
    "## Day 6: Booleans and Comparison Operators\n",
    "\n",
    "- Boolean Values: Understand `True` and `False` in Python, and how they can be represented by other values (like 0 and 1).\n",
    "- Comparison Operators: Learn about operators like `==`, `!=`, `<`, `>`, `<=`, `>=`.\n",
    "- Logical Operators: Dive into `and`, `or`, and `not` operators."
   ],
   "metadata": {
    "collapsed": false
   },
   "id": "b7a6457613325ab3"
  },
  {
   "cell_type": "markdown",
   "source": [
    "### Booleans \n",
    "\n",
    "In Python, a Boolean type can have two values: `True` and `False`. Booleans are often the result of comparison or logical operations and are fundamental in making decisions in your code.\n",
    "\n",
    "Example:"
   ],
   "metadata": {
    "collapsed": false
   },
   "id": "3e86c62fda8aca1d"
  },
  {
   "cell_type": "code",
   "execution_count": 2,
   "outputs": [],
   "source": [
    "is_active = True\n",
    "is_closed = False"
   ],
   "metadata": {
    "collapsed": false,
    "ExecuteTime": {
     "end_time": "2023-12-08T18:31:31.504707352Z",
     "start_time": "2023-12-08T18:31:31.499084619Z"
    }
   },
   "id": "c25ac5f2a50cea10"
  },
  {
   "cell_type": "markdown",
   "source": [
    "### Comparison Operators\n",
    "\n",
    "Comparison operators are used to compare values. Here are the primary ones:\n",
    "<br>\n",
    "\n",
    "Equal `==` Checks if the value of the two operands are equal."
   ],
   "metadata": {
    "collapsed": false
   },
   "id": "97e1393504349051"
  },
  {
   "cell_type": "code",
   "execution_count": 13,
   "outputs": [
    {
     "name": "stdout",
     "output_type": "stream",
     "text": [
      "True\n"
     ]
    }
   ],
   "source": [
    "print(5 == 5)  # Outputs True"
   ],
   "metadata": {
    "collapsed": false,
    "ExecuteTime": {
     "end_time": "2023-12-08T18:42:12.266498593Z",
     "start_time": "2023-12-08T18:42:12.225695303Z"
    }
   },
   "id": "5945bde505bbad5f"
  },
  {
   "cell_type": "markdown",
   "source": [
    "Not equal `!=` Checks if the values of two operands are not equal."
   ],
   "metadata": {
    "collapsed": false
   },
   "id": "2fc4036bef6de0cc"
  },
  {
   "cell_type": "code",
   "execution_count": 14,
   "outputs": [
    {
     "name": "stdout",
     "output_type": "stream",
     "text": [
      "True\n"
     ]
    }
   ],
   "source": [
    "print(5 != 2)  # Outputs True"
   ],
   "metadata": {
    "collapsed": false,
    "ExecuteTime": {
     "end_time": "2023-12-08T18:42:16.815505639Z",
     "start_time": "2023-12-08T18:42:16.804939298Z"
    }
   },
   "id": "93f5d7779658973f"
  },
  {
   "cell_type": "markdown",
   "source": [
    "Greater Than `>`, less than `<` Compare two values "
   ],
   "metadata": {
    "collapsed": false
   },
   "id": "1cc74eb556c0535e"
  },
  {
   "cell_type": "code",
   "execution_count": 15,
   "outputs": [
    {
     "name": "stdout",
     "output_type": "stream",
     "text": [
      "True\n",
      "False\n"
     ]
    }
   ],
   "source": [
    "print(5 > 3)  # Outputs True\n",
    "print(5 < 3)  # Outputs False"
   ],
   "metadata": {
    "collapsed": false,
    "ExecuteTime": {
     "end_time": "2023-12-08T18:42:18.656559268Z",
     "start_time": "2023-12-08T18:42:18.650576058Z"
    }
   },
   "id": "78f2c6489b75e07f"
  },
  {
   "cell_type": "markdown",
   "source": [
    "Greater than or equal to `>=`, less than or equal to `<=` Compare two values, including equality."
   ],
   "metadata": {
    "collapsed": false
   },
   "id": "74d258d368d3f41"
  },
  {
   "cell_type": "code",
   "execution_count": 16,
   "outputs": [
    {
     "name": "stdout",
     "output_type": "stream",
     "text": [
      "True\n",
      "False\n"
     ]
    }
   ],
   "source": [
    "print(5 >= 5)  # Outputs True\n",
    "print(5 <= 3)  # Outputs False"
   ],
   "metadata": {
    "collapsed": false,
    "ExecuteTime": {
     "end_time": "2023-12-08T18:42:20.195595638Z",
     "start_time": "2023-12-08T18:42:20.160790932Z"
    }
   },
   "id": "b28e4ee575ad8fd8"
  },
  {
   "cell_type": "markdown",
   "source": [
    "### Logical Operators\n",
    "\n",
    "Logical operators are used to combine conditional statements:\n",
    "\n",
    "`and`: returns True if both statements are true."
   ],
   "metadata": {
    "collapsed": false
   },
   "id": "24d3cf37c17f488e"
  },
  {
   "cell_type": "code",
   "execution_count": 17,
   "outputs": [
    {
     "name": "stdout",
     "output_type": "stream",
     "text": [
      "True\n"
     ]
    }
   ],
   "source": [
    "print(5 > 3 and 5 < 10)  # Outputs True"
   ],
   "metadata": {
    "collapsed": false,
    "ExecuteTime": {
     "end_time": "2023-12-08T18:42:24.398255754Z",
     "start_time": "2023-12-08T18:42:24.368242695Z"
    }
   },
   "id": "b0ca8d93a969f4ee"
  },
  {
   "cell_type": "markdown",
   "source": [
    "`or`: returns True if one of the statements is True."
   ],
   "metadata": {
    "collapsed": false
   },
   "id": "f8f94bbaf466476d"
  },
  {
   "cell_type": "code",
   "execution_count": 18,
   "outputs": [
    {
     "name": "stdout",
     "output_type": "stream",
     "text": [
      "True\n"
     ]
    }
   ],
   "source": [
    "print(5 > 3 or 5 > 10)  # Outputs True"
   ],
   "metadata": {
    "collapsed": false,
    "ExecuteTime": {
     "end_time": "2023-12-08T18:42:27.155048077Z",
     "start_time": "2023-12-08T18:42:27.104920267Z"
    }
   },
   "id": "7b4335e21ce49f04"
  },
  {
   "cell_type": "markdown",
   "source": [
    "`not`: reverses the result, returns False if the result is True."
   ],
   "metadata": {
    "collapsed": false
   },
   "id": "b95a307b21f3f653"
  },
  {
   "cell_type": "code",
   "execution_count": 19,
   "outputs": [
    {
     "name": "stdout",
     "output_type": "stream",
     "text": [
      "False\n"
     ]
    }
   ],
   "source": [
    "print(not(5 > 3))  # Outputs False"
   ],
   "metadata": {
    "collapsed": false,
    "ExecuteTime": {
     "end_time": "2023-12-08T18:43:18.993009876Z",
     "start_time": "2023-12-08T18:43:18.948332563Z"
    }
   },
   "id": "31ac2fd76055254a"
  },
  {
   "cell_type": "markdown",
   "source": [
    "### Practice Exercises for Day 6\n",
    "\n",
    "1. Exercise 1: Create a program that asks the user to input a number and then prints whether the number is positive, negative, or zero.\n",
    "2. Exercise 2: Write a program that compares two numbers input by the user and prints which one is larger, or if they are equal.\n",
    "3. Exercise 3: Develop a simple program that takes the age of the user and prints whether they are eligible to vote (18 years or older)."
   ],
   "metadata": {
    "collapsed": false
   },
   "id": "4eda44be79515c0a"
  },
  {
   "cell_type": "markdown",
   "source": [
    "### Tips for Practice\n",
    "\n",
    "- Experiment with different boolean expressions and see how Python evaluates them.\n",
    "- Try combining multiple comparison and logical operators to form complex conditions.\n",
    "- Always test edge cases, like equal values when using `==` and `!=`."
   ],
   "metadata": {
    "collapsed": false
   },
   "id": "6cb389e3231f3e9d"
  }
 ],
 "metadata": {
  "kernelspec": {
   "display_name": "Python 3",
   "language": "python",
   "name": "python3"
  },
  "language_info": {
   "codemirror_mode": {
    "name": "ipython",
    "version": 2
   },
   "file_extension": ".py",
   "mimetype": "text/x-python",
   "name": "python",
   "nbconvert_exporter": "python",
   "pygments_lexer": "ipython2",
   "version": "2.7.6"
  }
 },
 "nbformat": 4,
 "nbformat_minor": 5
}
