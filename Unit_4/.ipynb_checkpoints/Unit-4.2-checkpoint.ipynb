{
 "cells": [
  {
   "metadata": {},
   "cell_type": "markdown",
   "source": [
    "### Unit 4.2 Python modules\n",
    "\n",
    "Learn about Python modules and how to import them. Explore a few standard libraries."
   ],
   "id": "82f67e4ea98dd159"
  },
  {
   "metadata": {
    "ExecuteTime": {
     "end_time": "2024-04-10T23:33:34.283483Z",
     "start_time": "2024-04-10T23:33:34.280607Z"
    }
   },
   "cell_type": "code",
   "source": "",
   "id": "5c69d6c438addee2",
   "outputs": [],
   "execution_count": null
  }
 ],
 "metadata": {
  "kernelspec": {
   "display_name": "Python 3",
   "language": "python",
   "name": "python3"
  },
  "language_info": {
   "codemirror_mode": {
    "name": "ipython",
    "version": 2
   },
   "file_extension": ".py",
   "mimetype": "text/x-python",
   "name": "python",
   "nbconvert_exporter": "python",
   "pygments_lexer": "ipython2",
   "version": "2.7.6"
  }
 },
 "nbformat": 4,
 "nbformat_minor": 5
}
