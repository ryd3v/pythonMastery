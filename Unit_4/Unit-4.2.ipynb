{
 "cells": [
  {
   "metadata": {},
   "cell_type": "markdown",
   "source": [
    "### Unit 4.2 Python modules\n",
    "\n",
    "Learn about Python modules and how to import them. Explore a few standard libraries.\n",
    "\n",
    "In Python, a module is a file containing Python code which may include functions, classes, and variables, as well as runnable code. These modules are used to organize code in a logical way, allowing code to be reused between different programs. Modules can also help you manage and segment your program into parts that are easier to understand and use."
   ],
   "id": "82f67e4ea98dd159"
  },
  {
   "metadata": {},
   "cell_type": "markdown",
   "source": [
    "#### How to Import Modules\n",
    "\n",
    "1. **Import a Whole Module**: You can import the whole module by using the `import` statement. For example:\n",
    "   ```python\n",
    "   import math\n",
    "   print(math.sqrt(16))  # Outputs: 4.0\n",
    "   ```\n",
    "\n",
    "2. **Import Specific Attributes**: You can import specific functions, classes, or attributes from a module using the `from` keyword:\n",
    "   ```python\n",
    "   from math import sqrt\n",
    "   print(sqrt(16))  # Outputs: 4.0\n",
    "   ```\n",
    "\n",
    "3. **Import with Aliases**: If you want to shorten module names or function names, Python allows you to import modules or functionalities using an alias:\n",
    "   ```python\n",
    "   import math as m\n",
    "   print(m.sqrt(16))  # Outputs: 4.0\n",
    "\n",
    "   from math import sqrt as s\n",
    "   print(s(16))  # Outputs: 4.0\n",
    "   ```\n",
    "\n",
    "4. **Import All Attributes**: You can import all attributes and functions of a module using `*`. This is generally discouraged because it can lead to conflicts with local variable names and is not very clear for someone reading the code:\n",
    "   ```python\n",
    "   from math import *\n",
    "   print(sqrt(16))  # Outputs: 4.0\n",
    "   ```"
   ],
   "id": "194ffc1d9dca5b93"
  },
  {
   "metadata": {},
   "cell_type": "code",
   "outputs": [],
   "execution_count": null,
   "source": "",
   "id": "f1d6ff1dca658abc"
  }
 ],
 "metadata": {
  "kernelspec": {
   "display_name": "Python 3",
   "language": "python",
   "name": "python3"
  },
  "language_info": {
   "codemirror_mode": {
    "name": "ipython",
    "version": 2
   },
   "file_extension": ".py",
   "mimetype": "text/x-python",
   "name": "python",
   "nbconvert_exporter": "python",
   "pygments_lexer": "ipython2",
   "version": "2.7.6"
  }
 },
 "nbformat": 4,
 "nbformat_minor": 5
}
