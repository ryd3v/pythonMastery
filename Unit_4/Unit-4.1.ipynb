{
 "cells": [
  {
   "cell_type": "markdown",
   "source": [
    "### Unit 4: File Handling and Modules\n",
    "\n",
    "Introduction to file handling - reading from and writing to files."
   ],
   "metadata": {
    "collapsed": false
   },
   "id": "aa4b602ff2a8fe0d"
  },
  {
   "cell_type": "markdown",
   "source": [
    "File handling is a very important part of any application. Python has several functions for creating, reading, updating, and deleting files.\n",
    "\n",
    "File Handling The key function for working with files in Python is the open() function. The open() function takes two parameters: filename, and mode.\n",
    "\n",
    "There are four different methods (modes) for opening a file:\n",
    "\n",
    "- \"r\" - Read - Default value. Opens a file for reading, error if the file does not exist\n",
    "- \"a\" - Append - Opens a file for appending, creates the file if it does not exist\n",
    "- \"w\" - Write - Opens a file for writing, creates the file if it does not exist\n",
    "- \"x\" - Create - Creates the specified file, returns an error if the file exists\n",
    "\n",
    "In addition you can specify if the file should be handled as binary or text mode:\n",
    "- \"t\" - Text - Default value. Text mode\n",
    "- \"b\" - Binary - Binary mode (e.g. images)\n",
    "\n",
    "To open a file for reading it is enough to specify the name of the file:"
   ],
   "metadata": {
    "collapsed": false
   },
   "id": "1463d85b99c3323e"
  },
  {
   "cell_type": "code",
   "outputs": [],
   "source": [
    "f = open(\"demofile.txt\")"
   ],
   "metadata": {
    "collapsed": false,
    "ExecuteTime": {
     "end_time": "2024-01-26T22:05:07.432676569Z",
     "start_time": "2024-01-26T22:05:07.425826788Z"
    }
   },
   "id": "532a6bc587708e81",
   "execution_count": 2
  },
  {
   "cell_type": "markdown",
   "source": [
    "The code above is the same as:"
   ],
   "metadata": {
    "collapsed": false
   },
   "id": "2d89f8a12e7e9476"
  },
  {
   "cell_type": "code",
   "outputs": [],
   "source": [
    "f = open(\"demofile.txt\", \"rt\")"
   ],
   "metadata": {
    "collapsed": false,
    "ExecuteTime": {
     "end_time": "2024-01-26T22:05:43.346444698Z",
     "start_time": "2024-01-26T22:05:43.332120991Z"
    }
   },
   "id": "d8104011075c7163",
   "execution_count": 3
  },
  {
   "cell_type": "markdown",
   "source": [
    "Because \"r\" for read, and \"t\" for text are the default values, you do not need to specify them. \n",
    "\n",
    "Note: Make sure the file exists, or else you will encounter an error."
   ],
   "metadata": {
    "collapsed": false
   },
   "id": "8c851802b4a023c8"
  },
  {
   "cell_type": "markdown",
   "source": [
    "### Reading a File\n",
    "\n",
    "Python has a read() function that reads the content of the file:"
   ],
   "metadata": {
    "collapsed": false
   },
   "id": "3b66ff4208e3c6ee"
  },
  {
   "cell_type": "code",
   "outputs": [
    {
     "name": "stdout",
     "output_type": "stream",
     "text": [
      "Hello, This is a demo text file\n"
     ]
    }
   ],
   "source": [
    "f = open(\"demofile.txt\", \"r\")\n",
    "print(f.read())"
   ],
   "metadata": {
    "collapsed": false,
    "ExecuteTime": {
     "end_time": "2024-01-26T22:07:28.363704670Z",
     "start_time": "2024-01-26T22:07:28.322183185Z"
    }
   },
   "id": "1460abbda7dbcd9",
   "execution_count": 5
  },
  {
   "cell_type": "markdown",
   "source": [
    "If you want to read only few lines, you can use the readline() method:"
   ],
   "metadata": {
    "collapsed": false
   },
   "id": "5c0ccbf4708e7c3"
  },
  {
   "cell_type": "code",
   "outputs": [
    {
     "name": "stdout",
     "output_type": "stream",
     "text": [
      "Hello\n"
     ]
    }
   ],
   "source": [
    "f = open(\"demofile.txt\", \"r\")\n",
    "print(f.readline())  # Returns the first line"
   ],
   "metadata": {
    "collapsed": false,
    "ExecuteTime": {
     "end_time": "2024-01-26T22:10:30.571653555Z",
     "start_time": "2024-01-26T22:10:30.529775958Z"
    }
   },
   "id": "bcc11f0ad017e2a0",
   "execution_count": 8
  },
  {
   "cell_type": "markdown",
   "source": [
    "### Writing to an Existing File\n",
    "\n",
    "- \"a\" - writes to a file by appending to the end of the file without erasing any data. \n",
    "- \"w\" - erases all the data and then writes the specified information to the file:"
   ],
   "metadata": {
    "collapsed": false
   },
   "id": "6f6236eb6bec1c67"
  },
  {
   "cell_type": "code",
   "outputs": [
    {
     "name": "stdout",
     "output_type": "stream",
     "text": [
      "Hello Now the file has more content!\n"
     ]
    }
   ],
   "source": [
    "f = open(\"demofile.txt\", \"a\")\n",
    "f.write(\" Now the file has more content!\")\n",
    "f.close()\n",
    "\n",
    "# Open and read the file after writing\n",
    "f = open(\"demofile.txt\", \"r\")\n",
    "print(f.read())"
   ],
   "metadata": {
    "collapsed": false,
    "ExecuteTime": {
     "end_time": "2024-01-26T22:10:43.103490092Z",
     "start_time": "2024-01-26T22:10:43.088652768Z"
    }
   },
   "id": "a0682d685b03375a",
   "execution_count": 9
  },
  {
   "cell_type": "markdown",
   "source": [
    "### Creating a new File"
   ],
   "metadata": {
    "collapsed": false
   },
   "id": "7f13cc096fd2ac05"
  },
  {
   "cell_type": "code",
   "outputs": [],
   "source": [
    "f = open(\"myfile.txt\", \"x\")   # Creates a new file"
   ],
   "metadata": {
    "collapsed": false,
    "ExecuteTime": {
     "end_time": "2024-01-26T22:11:39.425508836Z",
     "start_time": "2024-01-26T22:11:39.410082692Z"
    }
   },
   "id": "d78671844481b11a",
   "execution_count": 10
  },
  {
   "cell_type": "markdown",
   "source": [
    "If the file already exists, the open() function with \"x\" mode will return an error.\n",
    "You can also use the \"w\" mode to create a new file. If the file already exists, it will be overwritten."
   ],
   "metadata": {
    "collapsed": false
   },
   "id": "bc5f6621e71e69b7"
  },
  {
   "cell_type": "code",
   "outputs": [],
   "source": [
    "f = open(\"myfile.txt\", \"w\")   # Creates a new file"
   ],
   "metadata": {
    "collapsed": false,
    "ExecuteTime": {
     "end_time": "2024-01-26T22:12:24.257610061Z",
     "start_time": "2024-01-26T22:12:24.216663237Z"
    }
   },
   "id": "bbd46cbedd72213f",
   "execution_count": 11
  },
  {
   "cell_type": "markdown",
   "source": [
    "### Closing a File\n",
    "It is a good practice to always close the file when you are done with it."
   ],
   "metadata": {
    "collapsed": false
   },
   "id": "fcb11c7c8adce1a6"
  },
  {
   "cell_type": "code",
   "outputs": [
    {
     "name": "stdout",
     "output_type": "stream",
     "text": [
      "Hello Now the file has more content!\n"
     ]
    }
   ],
   "source": [
    "f = open(\"demofile.txt\", \"r\")\n",
    "print(f.readline())\n",
    "f.close()"
   ],
   "metadata": {
    "collapsed": false,
    "ExecuteTime": {
     "end_time": "2024-01-26T22:13:20.478236671Z",
     "start_time": "2024-01-26T22:13:20.436246671Z"
    }
   },
   "id": "85a6c95748d2dee2",
   "execution_count": 12
  }
 ],
 "metadata": {
  "kernelspec": {
   "display_name": "Python 3",
   "language": "python",
   "name": "python3"
  },
  "language_info": {
   "codemirror_mode": {
    "name": "ipython",
    "version": 2
   },
   "file_extension": ".py",
   "mimetype": "text/x-python",
   "name": "python",
   "nbconvert_exporter": "python",
   "pygments_lexer": "ipython2",
   "version": "2.7.6"
  }
 },
 "nbformat": 4,
 "nbformat_minor": 5
}
