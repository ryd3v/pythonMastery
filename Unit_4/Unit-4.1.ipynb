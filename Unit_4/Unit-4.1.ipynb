{
 "cells": [
  {
   "cell_type": "markdown",
   "source": [
    "### Unit 4: File Handling and Modules\n",
    "\n",
    "Introduction to file handling - reading from and writing to files."
   ],
   "metadata": {
    "collapsed": false
   },
   "id": "aa4b602ff2a8fe0d"
  },
  {
   "cell_type": "code",
   "outputs": [],
   "source": [],
   "metadata": {
    "collapsed": false
   },
   "id": "884b193c5ce922b1"
  }
 ],
 "metadata": {
  "kernelspec": {
   "display_name": "Python 3",
   "language": "python",
   "name": "python3"
  },
  "language_info": {
   "codemirror_mode": {
    "name": "ipython",
    "version": 2
   },
   "file_extension": ".py",
   "mimetype": "text/x-python",
   "name": "python",
   "nbconvert_exporter": "python",
   "pygments_lexer": "ipython2",
   "version": "2.7.6"
  }
 },
 "nbformat": 4,
 "nbformat_minor": 5
}
