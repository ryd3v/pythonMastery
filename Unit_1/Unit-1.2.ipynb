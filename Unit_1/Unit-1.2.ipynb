{
 "cells": [
  {
   "cell_type": "markdown",
   "source": [
    "## Unit 1.2\n",
    "\n",
    "### Basic Python Syntax and Concepts\n",
    "\n",
    "### Objectives\n",
    "\n",
    "   - Understand basic Python syntax.\n",
    "   - Learn about variables, data types, and basic operators.\n",
    "      \n",
    "#### Tasks:\n",
    "1. Python Syntax:\n",
    "    - Read about Python syntax rules: indentation, comments, and naming conventions.\n",
    "        \n",
    "2. Variables and Data Types: \n",
    "    - Learn about different data types: integers, floats, strings, and booleans\n",
    "    - Practice declaring and using variables.\n",
    "        \n",
    "3. Basic Operators:\n",
    "    - Explore arithmetic operators: `+`, `-`, `*`, `/`, `%`\n",
    "    - Try out assignment operators: `=`, `+=`, `-=`, etc.\n",
    "         \n",
    "4. Simple Exercises:\n",
    "    - Write small programs to practice what you've learned so far. For example a program that calculates the area of a rectangle. "
   ],
   "metadata": {
    "collapsed": false
   },
   "id": "f208f4f9e959b152"
  },
  {
   "cell_type": "markdown",
   "source": [
    "## 1. Python Syntax Basics\n",
    "\n",
    "### *Indentation*:\n",
    " \n",
    "- Python uses indentation to define blocks of code. Unlike many other languages, Python does not use curly braces for this purpose. The standard is to use four spaces per indentation level.\n",
    "\n",
    "Example:"
   ],
   "metadata": {
    "collapsed": false
   },
   "id": "75e6149ec3f44a79"
  },
  {
   "cell_type": "code",
   "execution_count": 1,
   "outputs": [
    {
     "name": "stdout",
     "output_type": "stream",
     "text": [
      "Five is greater than two!\n"
     ]
    }
   ],
   "source": [
    "if 5 > 2:\n",
    "    print(\"Five is greater than two!\")\n"
   ],
   "metadata": {
    "collapsed": false,
    "ExecuteTime": {
     "end_time": "2023-12-03T17:18:51.372304800Z",
     "start_time": "2023-12-03T17:18:51.358295200Z"
    }
   },
   "id": "439cff210e11b76"
  },
  {
   "cell_type": "markdown",
   "source": [
    "### *Comments*:\n",
    " \n",
    "- Comments in Python start with a `#` symbol and are ignored by the interpreter. They are crucial for making your code understandable.\n",
    "\n",
    "Example:"
   ],
   "metadata": {
    "collapsed": false
   },
   "id": "57afc920195e9161"
  },
  {
   "cell_type": "code",
   "execution_count": 2,
   "outputs": [
    {
     "name": "stdout",
     "output_type": "stream",
     "text": [
      "Hello, World!\n"
     ]
    }
   ],
   "source": [
    "# This is a comment\n",
    "print(\"Hello, World!\")\n"
   ],
   "metadata": {
    "collapsed": false,
    "ExecuteTime": {
     "end_time": "2023-12-03T17:20:01.407248Z",
     "start_time": "2023-12-03T17:20:01.377055400Z"
    }
   },
   "id": "e9db6be7b5fe1ae6"
  },
  {
   "cell_type": "markdown",
   "source": [
    "### *Naming Conventions*: \n",
    "\n",
    "- Variable names should be lowercase, with words separated by underscores for readability (e.g., `my_variable`).\n",
    "      \n",
    "- Class names should follow the CapWords convention (e.g., `MyClass`).\n",
    "  \n",
    "- Constants are typically all uppercase (e.g., `MAX_SIZE`).\n",
    "\n",
    "See [PEP 8 – Style Guide for Python Code](https://peps.python.org/pep-0008/)"
   ],
   "metadata": {
    "collapsed": false
   },
   "id": "2c8dad718e224539"
  },
  {
   "cell_type": "markdown",
   "source": [
    "## 2. Variables and Data Types\n",
    "\n",
    "- *Variables*: You can create a variable simply by assigning a value to it. Python is dynamically typed, so you don't need to declare the data type.\n",
    "\n",
    "Example:"
   ],
   "metadata": {
    "collapsed": false
   },
   "id": "a2ec2a1dfda186a6"
  },
  {
   "cell_type": "code",
   "execution_count": 3,
   "outputs": [],
   "source": [
    "x = 5\n",
    "y = \"Hello, World!\"\n"
   ],
   "metadata": {
    "collapsed": false,
    "ExecuteTime": {
     "end_time": "2023-12-03T17:26:37.372838300Z",
     "start_time": "2023-12-03T17:26:37.337167900Z"
    }
   },
   "id": "a52350d97a8fa0c0"
  },
  {
   "cell_type": "markdown",
   "source": [
    "### Data Types\n",
    "\n",
    "- *Integers* and *Floats* for numeric values.\n",
    "- *Strings* for text. You can use single, double, or triple quotes for strings\n",
    "- *Booleans* for `True` and `False` values.\n",
    "\n",
    "Example:"
   ],
   "metadata": {
    "collapsed": false
   },
   "id": "36bed9bd2def1fb9"
  },
  {
   "cell_type": "code",
   "execution_count": 4,
   "outputs": [],
   "source": [
    "integer_var = 10\n",
    "float_var = 20.5\n",
    "string_var = \"Hello\"\n",
    "bool_var = True\n"
   ],
   "metadata": {
    "collapsed": false,
    "ExecuteTime": {
     "end_time": "2023-12-03T17:29:39.884450300Z",
     "start_time": "2023-12-03T17:29:39.860876400Z"
    }
   },
   "id": "65da1eed79973670"
  },
  {
   "cell_type": "markdown",
   "source": [
    "## 3. Basic Operators\n",
    "\n",
    "- *Arithmetic Operators*: Used for mathematical operations like addition (`+`), subtraction (`-`), multiplication (`*`), division (`/`), and modulus (`%`).\n",
    "\n",
    "Example:"
   ],
   "metadata": {
    "collapsed": false
   },
   "id": "fb85864dd5be1695"
  },
  {
   "cell_type": "code",
   "execution_count": 5,
   "outputs": [],
   "source": [
    "addition = 5 + 3  # 8\n",
    "multiplication = 5 * 3  # 15\n",
    "modulus = 10 % 3  # 1\n"
   ],
   "metadata": {
    "collapsed": false,
    "ExecuteTime": {
     "end_time": "2023-12-03T17:32:06.693548200Z",
     "start_time": "2023-12-03T17:32:06.683989800Z"
    }
   },
   "id": "22962648a03c6c55"
  },
  {
   "cell_type": "markdown",
   "source": [
    "- *Assignment Operators*: Used to assign values to variables. Apart from the basic `=`, there are operators like `+=`, `-=`, which modify and assign in one step.\n",
    "\n",
    "Example:"
   ],
   "metadata": {
    "collapsed": false
   },
   "id": "4ecfa819977cbfbb"
  },
  {
   "cell_type": "code",
   "execution_count": 6,
   "outputs": [],
   "source": [
    "x = 5\n",
    "x += 3  # Equivalent to x = x + 3\n"
   ],
   "metadata": {
    "collapsed": false,
    "ExecuteTime": {
     "end_time": "2023-12-03T17:33:15.977209800Z",
     "start_time": "2023-12-03T17:33:15.935151400Z"
    }
   },
   "id": "e48ec746dac36639"
  },
  {
   "cell_type": "markdown",
   "source": [
    "## Practice Exercises for Unit 1.2:\n",
    "\n",
    "1. *Create Variables*: Make variables of different types and print them.\n",
    "2. *Play with Arithmetic Operators*: Perform various arithmetic operations between numbers and observe the results.\n",
    "3. *Experiment with Strings*: Create strings using different types of quotes and try concatenating them."
   ],
   "metadata": {
    "collapsed": false
   },
   "id": "26e1dd4f40b4f25d"
  },
  {
   "cell_type": "code",
   "outputs": [],
   "source": [],
   "metadata": {
    "collapsed": false
   },
   "id": "419ba2d1e47c5c71"
  }
 ],
 "metadata": {
  "kernelspec": {
   "display_name": "Python 3",
   "language": "python",
   "name": "python3"
  },
  "language_info": {
   "codemirror_mode": {
    "name": "ipython",
    "version": 2
   },
   "file_extension": ".py",
   "mimetype": "text/x-python",
   "name": "python",
   "nbconvert_exporter": "python",
   "pygments_lexer": "ipython2",
   "version": "2.7.6"
  }
 },
 "nbformat": 4,
 "nbformat_minor": 5
}
