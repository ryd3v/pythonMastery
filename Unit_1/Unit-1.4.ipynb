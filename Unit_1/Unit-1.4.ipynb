{
 "cells": [
  {
   "cell_type": "markdown",
   "source": [
    "## Unit 1.4 \n",
    "Deep Dive into Strings\n",
    "- String Methods: Explore methods like `strip()`, `lower()`, `upper()`, `replace()`, and `split()`.\n",
    "- String Formatting: Practice more with `.format()` and f-strings (formatted string literals).\n",
    "- String Exercises: Work on exercises focusing on string manipulation."
   ],
   "metadata": {
    "collapsed": false
   },
   "id": "e8e230669407e6e0"
  },
  {
   "cell_type": "markdown",
   "source": [
    "### String Methods\n",
    "\n",
    "Strings in Python come with a variety of built-in methods that can perform different operations on the string. Here's an overview of some common ones:\n",
    "\n",
    "1. `strip()`, `rstrip()`, `lstrip()`, Removes whitespaces (or other specified characters) from the string."
   ],
   "metadata": {
    "collapsed": false
   },
   "id": "4283bf04d72802d"
  },
  {
   "cell_type": "code",
   "execution_count": 1,
   "outputs": [
    {
     "name": "stdout",
     "output_type": "stream",
     "text": [
      "Hello, World!\n"
     ]
    }
   ],
   "source": [
    "text = \"   Hello, World!   \"\n",
    "print(text.strip())  # Removes spaces from both ends"
   ],
   "metadata": {
    "collapsed": false,
    "ExecuteTime": {
     "end_time": "2023-12-04T04:24:46.396676Z",
     "start_time": "2023-12-04T04:24:46.394032800Z"
    }
   },
   "id": "48073c1dc29eb9e1"
  },
  {
   "cell_type": "markdown",
   "source": [
    "2. `lower()`, `upper()`, Changes the case of the string."
   ],
   "metadata": {
    "collapsed": false
   },
   "id": "27a9aea91b9d6926"
  },
  {
   "cell_type": "code",
   "execution_count": 2,
   "outputs": [
    {
     "name": "stdout",
     "output_type": "stream",
     "text": [
      "hello, world!\n",
      "HELLO, WORLD!\n"
     ]
    }
   ],
   "source": [
    "text = \"Hello, World!\"\n",
    "print(text.lower())  # Converts to lowercase\n",
    "print(text.upper())  # Converts to uppercase"
   ],
   "metadata": {
    "collapsed": false,
    "ExecuteTime": {
     "end_time": "2023-12-04T04:25:34.739543900Z",
     "start_time": "2023-12-04T04:25:34.725994400Z"
    }
   },
   "id": "85aa70f3a08be81b"
  },
  {
   "cell_type": "markdown",
   "source": [
    "3. `replace(old, new)`, Replaces a substring within the string."
   ],
   "metadata": {
    "collapsed": false
   },
   "id": "37e572a3d6c3f353"
  },
  {
   "cell_type": "code",
   "execution_count": 3,
   "outputs": [
    {
     "name": "stdout",
     "output_type": "stream",
     "text": [
      "Jello, World!\n"
     ]
    }
   ],
   "source": [
    "text = \"Hello, World!\"\n",
    "print(text.replace(\"H\", \"J\"))  # Replaces 'H' with 'J'"
   ],
   "metadata": {
    "collapsed": false,
    "ExecuteTime": {
     "end_time": "2023-12-04T04:26:30.161345400Z",
     "start_time": "2023-12-04T04:26:30.122148600Z"
    }
   },
   "id": "fe3ee3b9fe3bdeb4"
  },
  {
   "cell_type": "markdown",
   "source": [
    "4. `split(separator)`, Splits the string into a list, using the separator."
   ],
   "metadata": {
    "collapsed": false
   },
   "id": "bce4280599844b88"
  },
  {
   "cell_type": "code",
   "execution_count": 4,
   "outputs": [
    {
     "name": "stdout",
     "output_type": "stream",
     "text": [
      "['Hello', ' World!']\n"
     ]
    }
   ],
   "source": [
    "text = \"Hello, World!\"\n",
    "print(text.split(\",\"))  # Splits the string at ','"
   ],
   "metadata": {
    "collapsed": false,
    "ExecuteTime": {
     "end_time": "2023-12-04T04:27:22.784926500Z",
     "start_time": "2023-12-04T04:27:22.768359600Z"
    }
   },
   "id": "def401343b98d47a"
  },
  {
   "cell_type": "markdown",
   "source": [
    "### String Formatting\n",
    "\n",
    "String formatting allows you to embed variables into a string."
   ],
   "metadata": {
    "collapsed": false
   },
   "id": "3fc28a84e9e184d3"
  },
  {
   "cell_type": "markdown",
   "source": [
    "1. `format()` Method:"
   ],
   "metadata": {
    "collapsed": false
   },
   "id": "e3f0abc5dc2a04e0"
  },
  {
   "cell_type": "code",
   "execution_count": 5,
   "outputs": [
    {
     "name": "stdout",
     "output_type": "stream",
     "text": [
      "My age is 25\n"
     ]
    }
   ],
   "source": [
    "age = 25\n",
    "text = \"My age is {}\"\n",
    "print(text.format(age))"
   ],
   "metadata": {
    "collapsed": false,
    "ExecuteTime": {
     "end_time": "2023-12-04T04:28:38.514331900Z",
     "start_time": "2023-12-04T04:28:38.503774800Z"
    }
   },
   "id": "ab3d8cf7b27e2d3d"
  },
  {
   "cell_type": "markdown",
   "source": [
    "2. Formatted String Literals (f-Strings):"
   ],
   "metadata": {
    "collapsed": false
   },
   "id": "1cd62f83b59bfde6"
  },
  {
   "cell_type": "code",
   "execution_count": 7,
   "outputs": [
    {
     "name": "stdout",
     "output_type": "stream",
     "text": [
      "Hello, my name is John and I am 30 years old.\n"
     ]
    }
   ],
   "source": [
    "name = \"John\"\n",
    "age = 30\n",
    "print(f\"Hello, my name is {name} and I am {age} years old.\")"
   ],
   "metadata": {
    "collapsed": false,
    "ExecuteTime": {
     "end_time": "2023-12-04T04:34:03.976438700Z",
     "start_time": "2023-12-04T04:34:03.966392Z"
    }
   },
   "id": "16ee20236097a8fd"
  },
  {
   "cell_type": "markdown",
   "source": [
    "### String Exercises\n",
    "\n",
    "To practice these concepts, try these examples:\n",
    "\n",
    "1. Exercise 1: Write a program that takes a sentence as input and counts the number of uppercase and lowercase letters.\n",
    "2. Exercise 2: Create a program that asks for the user’s first and last name, then prints a greeting using their full name in all uppercase letters.\n"
   ],
   "metadata": {
    "collapsed": false
   },
   "id": "a2fe2eb5a1550be2"
  },
  {
   "cell_type": "markdown",
   "source": [
    "## Tips for Practice\n",
    "\n",
    "- Experiment with different string methods and understand how they modify the string.\n",
    "- Try combining multiple string methods in a single expression.\n",
    "- Play around with f-strings and `format()` to see how different data types are formatted into strings.\n",
    "- Review any errors you encounter and understand why they occur. This will deepen your understanding of Python's handling of strings."
   ],
   "metadata": {
    "collapsed": false
   },
   "id": "dc29af93a0a6129d"
  }
 ],
 "metadata": {
  "kernelspec": {
   "display_name": "Python 3",
   "language": "python",
   "name": "python3"
  },
  "language_info": {
   "codemirror_mode": {
    "name": "ipython",
    "version": 2
   },
   "file_extension": ".py",
   "mimetype": "text/x-python",
   "name": "python",
   "nbconvert_exporter": "python",
   "pygments_lexer": "ipython2",
   "version": "2.7.6"
  }
 },
 "nbformat": 4,
 "nbformat_minor": 5
}
