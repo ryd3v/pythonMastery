{
 "cells": [
  {
   "cell_type": "markdown",
   "source": [
    "# Day 2\n",
    "\n",
    "## Basic Python Syntax and Concepts\n",
    "\n",
    "### Objectives\n",
    "\n",
    "   - Understand basic Python syntax.\n",
    "   - Learn about variables, data types, and basic operators.\n",
    "      \n",
    "#### Tasks:\n",
    "1. Python Syntax:\n",
    "    - Read about Python syntax rules: indentation, comments, and naming conventions.\n",
    "        \n",
    "2. Variables and Data Types: \n",
    "    - Learn about different data types: integers, floats, strings, and booleans\n",
    "    - Practice declaring and using variables.\n",
    "        \n",
    "3. Basic Operators:\n",
    "    - Explore arithmetic operators: `+`, `-`, `*`, `/`, `%`\n",
    "    - Try out assignment operators: `=`, `+=`, `-=`, etc.\n",
    "         \n",
    "4. Simple Exercises:\n",
    "    - Write small programs to practice what you've learned so far. For example a program that calculates the area of a rectangle. "
   ],
   "metadata": {
    "collapsed": false
   },
   "id": "f208f4f9e959b152"
  }
 ],
 "metadata": {
  "kernelspec": {
   "display_name": "Python 3",
   "language": "python",
   "name": "python3"
  },
  "language_info": {
   "codemirror_mode": {
    "name": "ipython",
    "version": 2
   },
   "file_extension": ".py",
   "mimetype": "text/x-python",
   "name": "python",
   "nbconvert_exporter": "python",
   "pygments_lexer": "ipython2",
   "version": "2.7.6"
  }
 },
 "nbformat": 4,
 "nbformat_minor": 5
}
