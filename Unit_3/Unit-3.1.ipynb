{
 "cells": [
  {
   "cell_type": "markdown",
   "metadata": {},
   "source": [
    "## Unit 3.1\n",
    "### Functions\n",
    "\n",
    "Day 1 Learn about Functions\n",
    "- Learn to write functions \n",
    "- understand scope, and pass arguments. \n",
    "- Explore built-in functions"
   ]
  },
  {
   "cell_type": "markdown",
   "metadata": {
    "collapsed": false
   },
   "source": [
    "## Functions\n",
    "\n",
    "Writing functions in Python involves defining them with the def keyword, followed by the function name and parentheses. Inside these parentheses, you can list any parameters your function may require. The Python function body is indented and usually ends with a return statement, which specifies what the function should result in.\n",
    "\n",
    "Here is a basic example:"
   ]
  },
  {
   "cell_type": "code",
   "execution_count": 9,
   "metadata": {
    "ExecuteTime": {
     "end_time": "2024-01-18T22:53:13.995290716Z",
     "start_time": "2024-01-18T22:53:13.957177224Z"
    },
    "collapsed": false
   },
   "outputs": [],
   "source": [
    "def hello_world():\n",
    "    return \"Hello, world!\""
   ]
  },
  {
   "cell_type": "markdown",
   "metadata": {
    "collapsed": false
   },
   "source": [
    "This function, hello_world, doesn't require any parameters and returns the string \"Hello, world!\" when called. You call it like this:"
   ]
  },
  {
   "cell_type": "code",
   "execution_count": 10,
   "metadata": {
    "ExecuteTime": {
     "end_time": "2024-01-18T22:53:13.997352949Z",
     "start_time": "2024-01-18T22:53:13.995845445Z"
    },
    "collapsed": false
   },
   "outputs": [
    {
     "name": "stdout",
     "output_type": "stream",
     "text": [
      "Hello, world!\n"
     ]
    }
   ],
   "source": [
    "print(hello_world())"
   ]
  },
  {
   "cell_type": "markdown",
   "metadata": {
    "collapsed": false
   },
   "source": [
    "If you want to create a function that takes arguments, you can do this:"
   ]
  },
  {
   "cell_type": "code",
   "execution_count": 11,
   "metadata": {
    "ExecuteTime": {
     "end_time": "2024-01-18T22:53:14.002886634Z",
     "start_time": "2024-01-18T22:53:13.998949991Z"
    },
    "collapsed": false
   },
   "outputs": [],
   "source": [
    "def greet(name):\n",
    "    return f\"Hello, {name}!\""
   ]
  },
  {
   "cell_type": "markdown",
   "metadata": {
    "collapsed": false
   },
   "source": [
    "And you would call it like this:"
   ]
  },
  {
   "cell_type": "code",
   "execution_count": 12,
   "metadata": {
    "ExecuteTime": {
     "end_time": "2024-01-18T22:53:14.059627954Z",
     "start_time": "2024-01-18T22:53:14.004876404Z"
    },
    "collapsed": false
   },
   "outputs": [
    {
     "name": "stdout",
     "output_type": "stream",
     "text": [
      "Hello, Alice!\n"
     ]
    }
   ],
   "source": [
    "print(greet(\"Alice\"))"
   ]
  },
  {
   "cell_type": "markdown",
   "metadata": {
    "collapsed": false
   },
   "source": [
    "In this example, the greet function requires one parameter, name, which is used in the body of the function."
   ]
  },
  {
   "cell_type": "markdown",
   "metadata": {
    "collapsed": false
   },
   "source": [
    "## Scope\n",
    "\n",
    "Scope in programming refers to the area of the program where a variable exists and can be accessed. In Python, the concept of scope is implemented using `namespaces`. There are mainly two types of scopes.\n",
    "- Global scope: The variables defined outside all function bodies or in the main body of a script are said to be in the global scope. These variables can be accessed from anywhere in the code, making them `global variables`.\n",
    "\n",
    "- Local scope: The variables defined inside a function body have a local scope. These variables can only be accessed within that function, not from outside the function, making them `local Variables`.\n",
    "Here is a quick example:"
   ]
  },
  {
   "cell_type": "code",
   "execution_count": 13,
   "metadata": {
    "ExecuteTime": {
     "end_time": "2024-01-18T22:53:14.060356393Z",
     "start_time": "2024-01-18T22:53:14.047967130Z"
    },
    "collapsed": false
   },
   "outputs": [
    {
     "name": "stdout",
     "output_type": "stream",
     "text": [
      "I am global\n",
      "I am local\n",
      "I am global\n"
     ]
    },
    {
     "ename": "NameError",
     "evalue": "name 'local_var' is not defined",
     "output_type": "error",
     "traceback": [
      "\u001B[0;31m---------------------------------------------------------------------------\u001B[0m",
      "\u001B[0;31mNameError\u001B[0m                                 Traceback (most recent call last)",
      "Cell \u001B[0;32mIn[13], line 11\u001B[0m\n\u001B[1;32m      8\u001B[0m my_function()\n\u001B[1;32m     10\u001B[0m \u001B[38;5;28mprint\u001B[39m(global_var)  \u001B[38;5;66;03m# This is fine\u001B[39;00m\n\u001B[0;32m---> 11\u001B[0m \u001B[38;5;28mprint\u001B[39m(local_var)\n",
      "\u001B[0;31mNameError\u001B[0m: name 'local_var' is not defined"
     ]
    }
   ],
   "source": [
    "global_var = \"I am global\"\n",
    "\n",
    "def my_function():\n",
    "    local_var = \"I am local\"\n",
    "    print(global_var)  # This is fine, can access global from local scope\n",
    "    print(local_var)  # This is also fine\n",
    "\n",
    "my_function()\n",
    "\n",
    "print(global_var)  # This is fine\n",
    "print(local_var)  # This is not fine, raises an error"
   ]
  },
  {
   "cell_type": "markdown",
   "metadata": {
    "collapsed": false
   },
   "source": [
    "In this example, global_var is a global variable and local_var is a local variable.\n",
    "One important thing to understand is that if a local and a global variable have the same name, the local scope will always take precedence within its function.\n",
    "The rules for the scope can be a bit more nuanced when you involve more language features like nested functions or classes, but the principles introduced here are a solid starting point."
   ]
  },
  {
   "cell_type": "markdown",
   "metadata": {
    "collapsed": false
   },
   "source": [
    "## Arguments\n",
    "\n",
    "In Python, you can pass arguments to a function in a few different ways:\n",
    "\n",
    "1. Positional Arguments: This is the most common way. The arguments passed to the function in the function call match with their corresponding parameters based on their position.\n",
    "Here's an example:"
   ]
  },
  {
   "cell_type": "code",
   "execution_count": null,
   "metadata": {
    "ExecuteTime": {
     "start_time": "2024-01-18T22:53:14.048294865Z"
    },
    "collapsed": false
   },
   "outputs": [],
   "source": [
    "def greet(name, greeting):\n",
    "    print(f\"{greeting}, {name}!\")\n",
    "\n",
    "greet('Alice', 'Hello')  # Outputs: Hello, Alice!"
   ]
  },
  {
   "cell_type": "markdown",
   "metadata": {
    "collapsed": false
   },
   "source": [
    "In the above code, 'Alice' is passed as the name argument and 'Hello' as the greeting argument."
   ]
  },
  {
   "cell_type": "markdown",
   "metadata": {
    "collapsed": false
   },
   "source": [
    "2. Keyword Arguments: In this method, we provide the values in the form of key=value in function call, which matches the arguments based on their names (keys)."
   ]
  },
  {
   "cell_type": "code",
   "execution_count": null,
   "metadata": {
    "ExecuteTime": {
     "start_time": "2024-01-18T22:53:14.048537725Z"
    },
    "collapsed": false
   },
   "outputs": [],
   "source": [
    "def greet(name, greeting):\n",
    "    print(f\"{greeting}, {name}!\")\n",
    "\n",
    "greet(name='Bob', greeting='Hi')  # Outputs: Hi, Bob!"
   ]
  },
  {
   "cell_type": "markdown",
   "metadata": {
    "collapsed": false
   },
   "source": [
    "3. Default Argument Values: You can specify defaults for some (or all) of your function's parameters. If an argument is not provided in the call, Python uses the default value."
   ]
  },
  {
   "cell_type": "code",
   "execution_count": null,
   "metadata": {
    "ExecuteTime": {
     "start_time": "2024-01-18T22:53:14.048727354Z"
    },
    "collapsed": false
   },
   "outputs": [],
   "source": [
    "def greet(name, greeting='Hello'):\n",
    "    print(f\"{greeting}, {name}!\")\n",
    "\n",
    "greet('Charlie')  # Outputs: Hello, Charlie!\n",
    "greet('Charlie', 'Hey')  # Outputs: Hey, Charlie!"
   ]
  },
  {
   "cell_type": "markdown",
   "metadata": {
    "collapsed": false
   },
   "source": [
    "4. Variable-Length Arguments (Arbitrary Arguments): Sometimes, you may not know in advance how many arguments need to be passed, Python allows you to handle this with *args and **kwargs."
   ]
  },
  {
   "cell_type": "code",
   "execution_count": null,
   "metadata": {
    "ExecuteTime": {
     "start_time": "2024-01-18T22:53:14.048836480Z"
    },
    "collapsed": false
   },
   "outputs": [],
   "source": [
    "def my_func(*args):\n",
    "    for arg in args:\n",
    "        print(arg)\n",
    "\n",
    "my_func(\"Hello\", \"world\", \"!\")  # Outputs: Hello \\n world \\n !\n",
    "\n",
    "def my_func2(**kwargs):\n",
    "    for key, value in kwargs.items():\n",
    "        print(f\"{key} = {value}\")\n",
    "\n",
    "my_func2(name=\"John Doe\", age=30)  # Outputs: name = John Doe \\n age = 30"
   ]
  },
  {
   "cell_type": "markdown",
   "metadata": {
    "collapsed": false
   },
   "source": [
    "Remember to match the number and data types of arguments and parameters when calling a function to avoid a TypeError in Python."
   ]
  },
  {
   "cell_type": "markdown",
   "metadata": {
    "collapsed": false
   },
   "source": [
    "## Built-in function Examples\n",
    "\n",
    "Python provides several built-in functions that are readily available for your use. Here are some examples:\n",
    "\n",
    "1. len() function: This returns the length (the number of items) of an object. The argument can be a sequence (such as a string, tuple, list, or range) or a collection (such as a dictionary, set, or frozen set).\n",
    "print(len(\"Hello\")) # Outputs: 5 \n",
    "2. type() function: This returns the type of the specified object.\n",
    "print(type(123)) # Outputs: <class 'int'> \n",
    "3. print() function: This prints the specified message to the screen or the text stream file.\n",
    "print(\"Hello, world!\") # Outputs: Hello, world! \n",
    "4. max() function: This returns the item with the highest value or the item with the highest value in an iterable.\n",
    "print(max(1, 2, 3, 4)) # Outputs: 4 \n",
    "5. min() function: This returns the item with the lowest value or the item with the lowest value in an iterable.\n",
    "print(min(1, 2, 3, 4)) # Outputs: 1 \n",
    "6. sum() function: This takes an iterable (like a list or a tuple) and returns the sum of all elements.\n",
    "print(sum([1, 2, 3, 4])) # Outputs: 10 \n",
    "\n",
    "There are many other built-in functions in Python, which you can check out in the official Python documentation.\n",
    "\n",
    "[Built-in Functions](https://docs.python.org/3/library/functions.html)"
   ]
  }
 ],
 "metadata": {
  "kernelspec": {
   "display_name": "Python 3 (ipykernel)",
   "language": "python",
   "name": "python3"
  },
  "language_info": {
   "codemirror_mode": {
    "name": "ipython",
    "version": 3
   },
   "file_extension": ".py",
   "mimetype": "text/x-python",
   "name": "python",
   "nbconvert_exporter": "python",
   "pygments_lexer": "ipython3",
   "version": "3.11.7"
  }
 },
 "nbformat": 4,
 "nbformat_minor": 4
}
