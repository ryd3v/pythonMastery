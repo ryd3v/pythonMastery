{
 "cells": [
  {
   "cell_type": "markdown",
   "source": [
    "## Week 3 \n",
    "### Day 2: Introduction to basic data structures \n",
    "- lists \n",
    "- tuples \n",
    "- sets \n",
    "- dictionaries.\n",
    "\n",
    "These structures are essential for storing and manipulating data in your Python programs."
   ],
   "metadata": {
    "collapsed": false
   },
   "id": "fe25e00a9ba99203"
  },
  {
   "cell_type": "markdown",
   "source": [
    "## Lists\n",
    "Lists in Python are ordered, mutable (changeable), and allow duplicate elements.\n",
    "\n",
    "Creating Lists"
   ],
   "metadata": {
    "collapsed": false
   },
   "id": "7d43563c83a7155a"
  },
  {
   "cell_type": "code",
   "outputs": [],
   "source": [
    "my_list = [1, 2, 3]\n",
    "names = [\"Alice\", \"Bob\", \"Charlie\"]"
   ],
   "metadata": {
    "collapsed": false,
    "ExecuteTime": {
     "end_time": "2024-01-03T06:27:26.128469400Z",
     "start_time": "2024-01-03T06:27:26.112778600Z"
    }
   },
   "id": "3a20a226330ce260",
   "execution_count": 1
  },
  {
   "cell_type": "markdown",
   "source": [
    "Basic Operations\n",
    "- Accessing Elements: print(my_list[0]) # Outputs 1\n",
    "- Appending Elements: my_list.append(4)\n",
    "- Iterating:"
   ],
   "metadata": {
    "collapsed": false
   },
   "id": "dfb7a2b47b08da67"
  },
  {
   "cell_type": "code",
   "outputs": [
    {
     "name": "stdout",
     "output_type": "stream",
     "text": [
      "Alice\n",
      "Bob\n",
      "Charlie\n"
     ]
    }
   ],
   "source": [
    "for name in names:\n",
    "    print(name)"
   ],
   "metadata": {
    "collapsed": false,
    "ExecuteTime": {
     "end_time": "2024-01-03T06:28:06.110592600Z",
     "start_time": "2024-01-03T06:28:06.074652900Z"
    }
   },
   "id": "a3ee4e35c3772359",
   "execution_count": 2
  },
  {
   "cell_type": "markdown",
   "source": [
    "## Tuples\n",
    "Tuples are similar to lists but are immutable (cannot be changed after creation). They are ordered and allow duplicate elements.\n",
    "\n",
    "Creating Tuples"
   ],
   "metadata": {
    "collapsed": false
   },
   "id": "52bfa51f9e10805"
  },
  {
   "cell_type": "code",
   "outputs": [],
   "source": [
    "my_tuple = (1, 2, 3)\n",
    "coordinates = (3.1, 4.2)"
   ],
   "metadata": {
    "collapsed": false,
    "ExecuteTime": {
     "end_time": "2024-01-03T06:29:16.151883700Z",
     "start_time": "2024-01-03T06:29:16.120204400Z"
    }
   },
   "id": "b23d8bfe42844b68",
   "execution_count": 3
  },
  {
   "cell_type": "markdown",
   "source": [
    "Basic Operations\n",
    "- Accessing Elements: `print(my_tuple[1])` # Outputs 2\n",
    "Iterating:"
   ],
   "metadata": {
    "collapsed": false
   },
   "id": "7ec2cc3ebb3a6c45"
  },
  {
   "cell_type": "code",
   "outputs": [
    {
     "name": "stdout",
     "output_type": "stream",
     "text": [
      "3.1\n",
      "4.2\n"
     ]
    }
   ],
   "source": [
    "for coord in coordinates:\n",
    "    print(coord)"
   ],
   "metadata": {
    "collapsed": false,
    "ExecuteTime": {
     "end_time": "2024-01-03T06:30:02.903833100Z",
     "start_time": "2024-01-03T06:30:02.863356400Z"
    }
   },
   "id": "2d487f28ac0fa3f0",
   "execution_count": 4
  },
  {
   "cell_type": "markdown",
   "source": [
    "### Sets\n",
    "Sets are unordered, mutable, and do not allow duplicate elements. They are useful for storing unique items and performing common set operations like unions and intersections.\n",
    "\n",
    "Creating Sets"
   ],
   "metadata": {
    "collapsed": false
   },
   "id": "48d0b036ae065a21"
  },
  {
   "cell_type": "code",
   "outputs": [],
   "source": [
    "my_set = {1, 2, 3}\n",
    "colors = {\"red\", \"blue\", \"green\"}"
   ],
   "metadata": {
    "collapsed": false,
    "ExecuteTime": {
     "end_time": "2024-01-03T06:30:37.436198100Z",
     "start_time": "2024-01-03T06:30:37.391415400Z"
    }
   },
   "id": "1a79d041051ed085",
   "execution_count": 5
  },
  {
   "cell_type": "markdown",
   "source": [
    "Basic Operations\n",
    "Adding Elements: `colors.add(\"yellow\")`\n",
    "Set Operations: `union_set = my_set.union(colors)`"
   ],
   "metadata": {
    "collapsed": false
   },
   "id": "3423b6a15a97ad44"
  },
  {
   "cell_type": "markdown",
   "source": [
    "### Dictionaries\n",
    "Dictionaries in Python are unordered collections that store key-value pairs. They are mutable and keys must be unique.\n",
    "\n",
    "Creating Dictionaries"
   ],
   "metadata": {
    "collapsed": false
   },
   "id": "42a72254fd7ddaac"
  },
  {
   "cell_type": "code",
   "outputs": [],
   "source": [
    "my_dict = {\"name\": \"Alice\", \"age\": 25}"
   ],
   "metadata": {
    "collapsed": false,
    "ExecuteTime": {
     "end_time": "2024-01-03T06:31:31.778812700Z",
     "start_time": "2024-01-03T06:31:31.747784200Z"
    }
   },
   "id": "6622275a81ffbed5",
   "execution_count": 6
  },
  {
   "cell_type": "markdown",
   "source": [
    "Basic Operations\n",
    "Accessing Values: `print(my_dict[\"name\"]) # Outputs Alice`\n",
    "Adding Key-Value Pairs: `my_dict[\"email\"] = \"alice@example.com\"`\n",
    "Iterating:"
   ],
   "metadata": {
    "collapsed": false
   },
   "id": "fa052f4fdccb869f"
  },
  {
   "cell_type": "code",
   "outputs": [
    {
     "name": "stdout",
     "output_type": "stream",
     "text": [
      "name Alice\n",
      "age 25\n"
     ]
    }
   ],
   "source": [
    "for key, value in my_dict.items():\n",
    "    print(key, value)"
   ],
   "metadata": {
    "collapsed": false,
    "ExecuteTime": {
     "end_time": "2024-01-03T06:32:28.800995300Z",
     "start_time": "2024-01-03T06:32:28.758137900Z"
    }
   },
   "id": "44d34b2193d90745",
   "execution_count": 7
  },
  {
   "cell_type": "markdown",
   "source": [
    "### Practice Exercises for Day 2\n",
    "1. List Exercise: Create a list of numbers, then write a loop that prints each number squared.\n",
    "2. Tuple Exercise: Make a tuple containing different data types (string, int, bool) and iterate through it, printing each type.\n",
    "3. Set Exercise: Create two sets of numbers and then print their union and intersection.\n",
    "4. Dictionary Exercise: Make a dictionary representing a person (with keys like 'name', 'age', 'city'), and then print out their details."
   ],
   "metadata": {
    "collapsed": false
   },
   "id": "ed8bf619725582ff"
  },
  {
   "cell_type": "markdown",
   "source": [
    "### Tips for Day 2\n",
    "- Experiment with each data structure and try to use their unique methods and properties.\n",
    "- Practice modifying these data structures (except tuples) and understand how their behaviors differ.\n",
    "- Pay attention to the syntax and how Python handles each data structure."
   ],
   "metadata": {
    "collapsed": false
   },
   "id": "2bf77648ba637453"
  }
 ],
 "metadata": {
  "kernelspec": {
   "display_name": "Python 3",
   "language": "python",
   "name": "python3"
  },
  "language_info": {
   "codemirror_mode": {
    "name": "ipython",
    "version": 2
   },
   "file_extension": ".py",
   "mimetype": "text/x-python",
   "name": "python",
   "nbconvert_exporter": "python",
   "pygments_lexer": "ipython2",
   "version": "2.7.6"
  }
 },
 "nbformat": 4,
 "nbformat_minor": 5
}
