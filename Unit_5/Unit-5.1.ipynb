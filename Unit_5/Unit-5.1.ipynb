{
 "cells": [
  {
   "metadata": {},
   "cell_type": "markdown",
   "source": [
    "## Object-Oriented Programming\n",
    "\n",
    "- Understand the basics of object-oriented programming.\n",
    "\n",
    "- Introduction to classes and objects."
   ],
   "id": "92b4b631b1e89389"
  },
  {
   "metadata": {},
   "cell_type": "markdown",
   "source": [
    "Object-Oriented Programming (OOP) is a programming paradigm that uses \"objects\" to design applications and computer programs. It utilizes several key concepts, which we'll briefly discuss here.\n",
    "\n",
    "Classes and instances are fundamental concepts in object-oriented programming (OOP), and Python is a language that supports OOP principles. Let's break it down:\n",
    "\n",
    "#### Classes:\n",
    "A class in Python is like a blueprint for creating objects. It defines the `properties` (which in Python are called `attributes`) and `behaviors` (which in Python are called `methods`) that the objects created from the class can have. \n",
    "\n",
    "Classes encapsulate data and functions into one single structure.\n",
    "\n",
    "In Python, you define a class using the `class` keyword:\n",
    "\n",
    "```python\n",
    "class Dog:\n",
    "    def __init__(self, name, age):\n",
    "        self.name = name\n",
    "        self.age = age\n",
    "        \n",
    "    def bark(self):\n",
    "        return \"Woof!\"\n",
    "```\n",
    "\n",
    "In this example, the `Dog` class has an `__init__` method, which is a special method called a `constructor`. It's used to initialize the instance when it's created. The `self` parameter refers to the instance itself. The `Dog` class also has a method `bark`, which allows a `Dog` instance to perform an action.\n",
    "\n",
    "#### Instances:\n",
    "Once you have a class defined, you can create objects from it. These objects are called instances of the class. Each instance has its own set of attributes and methods, as defined by the class.\n",
    "\n",
    "You create an instance by calling the class as if it were a function, passing the arguments that the `__init__` method expects:\n",
    "\n",
    "```python\n",
    "my_dog = Dog(name='Fido', age=2)\n",
    "```\n",
    "\n",
    "Here, `my_dog` is an instance of the `Dog` class with its own `name` and `age` attributes. You could create another `Dog` instance, and it would be a completely separate object:\n",
    "\n",
    "```python\n",
    "your_dog = Dog(name='Spot', age=3)\n",
    "```\n",
    "\n",
    "Now, `my_dog` and `your_dog` are both instances of the `Dog` class, but they represent distinct entities with their own data. You can call the `bark` method on these instances:\n",
    "\n",
    "```python\n",
    "print(my_dog.bark())  # Outputs: Woof!\n",
    "print(your_dog.bark())  # Outputs: Woof!\n",
    "```\n",
    "\n",
    "Despite both instances having access to the same method, the method is called on each instance individually.\n",
    "\n",
    "Instances typically carry data specific to them, which allows each instance to have its own state independent of the state of other instances. The use of classes and instances enables programmers to create structured code that can model real-world entities and relationships, making code easier to understand and maintain."
   ],
   "id": "e93786af810715e7"
  }
 ],
 "metadata": {
  "kernelspec": {
   "display_name": "Python 3",
   "language": "python",
   "name": "python3"
  },
  "language_info": {
   "codemirror_mode": {
    "name": "ipython",
    "version": 2
   },
   "file_extension": ".py",
   "mimetype": "text/x-python",
   "name": "python",
   "nbconvert_exporter": "python",
   "pygments_lexer": "ipython2",
   "version": "2.7.6"
  }
 },
 "nbformat": 4,
 "nbformat_minor": 5
}
