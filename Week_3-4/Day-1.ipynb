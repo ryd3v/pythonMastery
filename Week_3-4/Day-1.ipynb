{
 "cells": [
  {
   "cell_type": "markdown",
   "source": [
    "## Week 3\n",
    "\n",
    "### If Statements\n",
    "\n",
    "- Learn: How `if`, `elif`, and `else` statements work.\n",
    "\n",
    "### For Loops\n",
    "\n",
    "- Learn: The syntax and use of `for` loops, especially with `range()`.\n",
    "\n",
    "### While Loops\n",
    "\n",
    "- Learn: How `while` loops function and when to use them.\n",
    "\n",
    "### Break and Continue\n",
    "\n",
    "- Learn: The use of `break` to exit loops and `continue` to skip the current iteration."
   ],
   "metadata": {
    "collapsed": false
   },
   "id": "33e3e64ec277c311"
  },
  {
   "cell_type": "markdown",
   "source": [
    "## If Statements\n",
    "\n",
    "- If statements in Python allow you to execute certain pieces of code based on conditions.\n",
    "\n",
    "Syntax:"
   ],
   "metadata": {
    "collapsed": false
   },
   "id": "9f0656874e924d1d"
  },
  {
   "cell_type": "code",
   "execution_count": null,
   "outputs": [],
   "source": [
    "if condition:\n",
    "# code to execute if condition is true\n",
    "elif another_condition:\n",
    "# code to execute if the another_condition is true\n",
    "else:\n",
    "# code to execute if none of the above conditions are true"
   ],
   "metadata": {
    "collapsed": false
   },
   "id": "c49dca5b4d7df986"
  },
  {
   "cell_type": "markdown",
   "source": [
    "### Example:"
   ],
   "metadata": {
    "collapsed": false
   },
   "id": "5baa561c1783f15b"
  },
  {
   "cell_type": "code",
   "execution_count": 2,
   "outputs": [
    {
     "name": "stdout",
     "output_type": "stream",
     "text": [
      "Positive number\n"
     ]
    }
   ],
   "source": [
    "number = 5\n",
    "if number > 0:\n",
    "    print(\"Positive number\")\n",
    "elif number == 0:\n",
    "    print(\"Zero\")\n",
    "else:\n",
    "    print(\"Negative number\")"
   ],
   "metadata": {
    "collapsed": false,
    "ExecuteTime": {
     "end_time": "2023-12-17T19:07:09.090983300Z",
     "start_time": "2023-12-17T19:07:09.067983700Z"
    }
   },
   "id": "b11f00ceb247a76f"
  },
  {
   "cell_type": "markdown",
   "source": [
    "### For Loops\n",
    "\n",
    "- For loops in Python are used to iterate over a sequence (like a list, tuple, string) or other iterable objects.\n",
    "\n",
    "Syntax:\n",
    "```python\n",
    "for element in sequence:\n",
    "    # code to execute for each element in sequence\n",
    "```"
   ],
   "metadata": {
    "collapsed": false
   },
   "id": "ed34046a861e8b41"
  },
  {
   "cell_type": "code",
   "execution_count": 3,
   "outputs": [
    {
     "name": "stdout",
     "output_type": "stream",
     "text": [
      "apple\n",
      "banana\n",
      "cherry\n"
     ]
    }
   ],
   "source": [
    "fruits = [\"apple\", \"banana\", \"cherry\"]\n",
    "for fruit in fruits:\n",
    "    print(fruit)"
   ],
   "metadata": {
    "collapsed": false,
    "ExecuteTime": {
     "end_time": "2023-12-17T19:09:07.533367700Z",
     "start_time": "2023-12-17T19:09:07.462096200Z"
    }
   },
   "id": "cb9e0bf8483cad1a"
  },
  {
   "cell_type": "markdown",
   "source": [
    "### While Loops\n",
    "\n",
    "- While loops in Python repeat as long as a certain boolean condition is met.\n",
    "\n",
    "Syntax:\n",
    "```python\n",
    "while condition:\n",
    "    # code to execute while the condition is true\n",
    "```"
   ],
   "metadata": {
    "collapsed": false
   },
   "id": "184fb1352a1d9987"
  },
  {
   "cell_type": "code",
   "execution_count": 4,
   "outputs": [
    {
     "name": "stdout",
     "output_type": "stream",
     "text": [
      "1\n",
      "2\n",
      "3\n",
      "4\n",
      "5\n"
     ]
    }
   ],
   "source": [
    "count = 1\n",
    "while count <= 5:\n",
    "    print(count)\n",
    "    count += 1"
   ],
   "metadata": {
    "collapsed": false,
    "ExecuteTime": {
     "end_time": "2023-12-17T19:10:14.833620500Z",
     "start_time": "2023-12-17T19:10:14.793732300Z"
    }
   },
   "id": "cc68e2026a7953ef"
  },
  {
   "cell_type": "markdown",
   "source": [
    "### Combining Loops with If Statements\n",
    "\n",
    "You can combine loops and if statements to create more complex and useful programs.\n",
    "Example:"
   ],
   "metadata": {
    "collapsed": false
   },
   "id": "57c46d3930be645e"
  },
  {
   "cell_type": "code",
   "execution_count": 5,
   "outputs": [
    {
     "name": "stdout",
     "output_type": "stream",
     "text": [
      "1 is positive\n",
      "2 is positive\n",
      "3 is positive\n",
      "4 is positive\n",
      "5 is positive\n",
      "-1 is negative\n",
      "-2 is negative\n",
      "0 is zero\n"
     ]
    }
   ],
   "source": [
    "numbers = [1, 2, 3, 4, 5, -1, -2, 0]\n",
    "for num in numbers:\n",
    "    if num > 0:\n",
    "        print(num, \"is positive\")\n",
    "    elif num == 0:\n",
    "        print(num, \"is zero\")\n",
    "    else:\n",
    "        print(num, \"is negative\")"
   ],
   "metadata": {
    "collapsed": false,
    "ExecuteTime": {
     "end_time": "2023-12-17T19:11:24.231510600Z",
     "start_time": "2023-12-17T19:11:24.184746800Z"
    }
   },
   "id": "cc860195c0a500b1"
  },
  {
   "cell_type": "markdown",
   "source": [
    "### Break and Continue\n",
    "\n",
    "- `break`: Exits the loop.\n",
    "- `continue`: Skips to the next iteration of the loop.\n",
    "\n",
    "Example of break:"
   ],
   "metadata": {
    "collapsed": false
   },
   "id": "6da0386cd96db190"
  },
  {
   "cell_type": "code",
   "execution_count": 6,
   "outputs": [
    {
     "name": "stdout",
     "output_type": "stream",
     "text": [
      "1\n",
      "2\n",
      "3\n",
      "4\n",
      "5\n"
     ]
    }
   ],
   "source": [
    "for num in numbers:\n",
    "    if num < 0:\n",
    "        break\n",
    "    print(num)"
   ],
   "metadata": {
    "collapsed": false,
    "ExecuteTime": {
     "end_time": "2023-12-17T19:12:58.974047500Z",
     "start_time": "2023-12-17T19:12:58.962048200Z"
    }
   },
   "id": "2be7926979b7cf71"
  },
  {
   "cell_type": "markdown",
   "source": [
    "Example of `continue`:"
   ],
   "metadata": {
    "collapsed": false
   },
   "id": "aca0861b69d71be"
  },
  {
   "cell_type": "code",
   "execution_count": 7,
   "outputs": [
    {
     "name": "stdout",
     "output_type": "stream",
     "text": [
      "1\n",
      "2\n",
      "3\n",
      "4\n",
      "5\n",
      "0\n"
     ]
    }
   ],
   "source": [
    "for num in numbers:\n",
    "    if num < 0:\n",
    "        continue\n",
    "    print(num)"
   ],
   "metadata": {
    "collapsed": false,
    "ExecuteTime": {
     "end_time": "2023-12-17T19:13:42.534634Z",
     "start_time": "2023-12-17T19:13:42.504648500Z"
    }
   },
   "id": "59dc6c123a43f662"
  },
  {
   "cell_type": "markdown",
   "source": [
    "### Practical Application\n",
    "\n",
    "Using these concepts, you can create programs that take user input, process data in a variety of ways, and provide output based on logical conditions and iterative processes. It's important to experiment with these structures, try different scenarios, and understand how they work in practice."
   ],
   "metadata": {
    "collapsed": false
   },
   "id": "eca38d23e059faa4"
  }
 ],
 "metadata": {
  "kernelspec": {
   "display_name": "Python 3",
   "language": "python",
   "name": "python3"
  },
  "language_info": {
   "codemirror_mode": {
    "name": "ipython",
    "version": 2
   },
   "file_extension": ".py",
   "mimetype": "text/x-python",
   "name": "python",
   "nbconvert_exporter": "python",
   "pygments_lexer": "ipython2",
   "version": "2.7.6"
  }
 },
 "nbformat": 4,
 "nbformat_minor": 5
}
