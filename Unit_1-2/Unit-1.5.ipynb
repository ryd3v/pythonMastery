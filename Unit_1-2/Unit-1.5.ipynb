{
 "cells": [
  {
   "cell_type": "markdown",
   "source": [
    "## Day 5: Numbers and Arithmetic Operators\n",
    "\n",
    "- Integers and Floats: Understand the difference between these two numeric types.\n",
    "- Arithmetic Operations: Explore more complex operations like exponentiation (`**`), floor division (`//`), etc.\n",
    "- Math Functions: Use some of Python's built-in math functions like `abs()`, `round()`, `min()`, `max()`, etc.\n",
    "\n",
    "Let's dive into Day 5 where you'll focus on understanding numbers and arithmetic operators in Python, specifically integers and floats, various arithmetic operations, and built-in math functions."
   ],
   "metadata": {
    "collapsed": false
   },
   "id": "eabde0d2caee7750"
  },
  {
   "cell_type": "markdown",
   "source": [
    "### Integers and Floats\n",
    "\n",
    "In Python, numbers are commonly represented as either integers (`int`) or floating-point numbers (`float`).\n",
    "\n",
    "- Integers: These are whole numbers without a fractional part, like 3, 100, -15.\n",
    "- Floats: These represent real numbers and can include a fractional part, like 3.14, -0.001, 2.0.\n",
    "\n",
    "Example:"
   ],
   "metadata": {
    "collapsed": false
   },
   "id": "95cef30fe65f9c05"
  },
  {
   "cell_type": "code",
   "execution_count": 1,
   "outputs": [],
   "source": [
    "integer_example = 10\n",
    "float_example = 10.5\n"
   ],
   "metadata": {
    "collapsed": false,
    "ExecuteTime": {
     "end_time": "2023-12-05T19:27:46.791135300Z",
     "start_time": "2023-12-05T19:27:46.780085100Z"
    }
   },
   "id": "7300ec4d67ca0c1e"
  },
  {
   "cell_type": "markdown",
   "source": [
    "### Arithmetic Operations\n",
    "\n",
    "Python supports a variety of arithmetic operations that you can perform on numbers.\n",
    "\n",
    "- Standard Operations: Addition (+), Subtraction (-), Multiplication (*), and Division (/).\n",
    "\n",
    "- Exponentiation (**): Raises the first number to the power of the second.\n",
    "\n",
    "Example:"
   ],
   "metadata": {
    "collapsed": false
   },
   "id": "1bed7abd43b91fcc"
  },
  {
   "cell_type": "code",
   "execution_count": 4,
   "outputs": [
    {
     "name": "stdout",
     "output_type": "stream",
     "text": [
      "8\n"
     ]
    }
   ],
   "source": [
    "print(2 ** 3)  # Outputs 8"
   ],
   "metadata": {
    "collapsed": false,
    "ExecuteTime": {
     "end_time": "2023-12-05T19:29:40.613926700Z",
     "start_time": "2023-12-05T19:29:40.586707700Z"
    }
   },
   "id": "13a7e2532a8b5daf"
  },
  {
   "cell_type": "markdown",
   "source": [
    "Floor Division (`//`): Divides and returns the largest integer not greater than the result.\n",
    "\n",
    "Example:"
   ],
   "metadata": {
    "collapsed": false
   },
   "id": "810c91126f1a7550"
  },
  {
   "cell_type": "code",
   "execution_count": 5,
   "outputs": [
    {
     "name": "stdout",
     "output_type": "stream",
     "text": [
      "2\n"
     ]
    }
   ],
   "source": [
    "print(7 // 3)  # Outputs 2"
   ],
   "metadata": {
    "collapsed": false,
    "ExecuteTime": {
     "end_time": "2023-12-05T19:30:16.966107600Z",
     "start_time": "2023-12-05T19:30:16.954049400Z"
    }
   },
   "id": "33d1fd56e21c7e32"
  },
  {
   "cell_type": "markdown",
   "source": [
    "Modulus (`%`): Returns the remainder of the division.\n",
    "\n",
    "Example:"
   ],
   "metadata": {
    "collapsed": false
   },
   "id": "65ad837b80d1989"
  },
  {
   "cell_type": "code",
   "execution_count": 6,
   "outputs": [
    {
     "name": "stdout",
     "output_type": "stream",
     "text": [
      "1\n"
     ]
    }
   ],
   "source": [
    "print(7 % 3)  # Outputs 1"
   ],
   "metadata": {
    "collapsed": false,
    "ExecuteTime": {
     "end_time": "2023-12-05T19:30:55.436298300Z",
     "start_time": "2023-12-05T19:30:55.399951Z"
    }
   },
   "id": "70e076e3ba0a3cdd"
  },
  {
   "cell_type": "markdown",
   "source": [
    "### Math Functions\n",
    "\n",
    "Python provides several built-in functions that are useful for mathematical operations.\n",
    "\n",
    "- `abs()`: Returns the absolute value of a number.\n",
    "\n",
    "Example:"
   ],
   "metadata": {
    "collapsed": false
   },
   "id": "10e248116031395f"
  },
  {
   "cell_type": "code",
   "execution_count": 7,
   "outputs": [
    {
     "name": "stdout",
     "output_type": "stream",
     "text": [
      "5\n"
     ]
    }
   ],
   "source": [
    "print(abs(-5))  # Outputs 5"
   ],
   "metadata": {
    "collapsed": false,
    "ExecuteTime": {
     "end_time": "2023-12-05T19:31:48.313987500Z",
     "start_time": "2023-12-05T19:31:48.301104800Z"
    }
   },
   "id": "f5395b97636a9668"
  },
  {
   "cell_type": "markdown",
   "source": [
    "- `round(number, ndigits)`: Rounds a number to a specified number of decimal places.\n",
    "\n",
    "Example:"
   ],
   "metadata": {
    "collapsed": false
   },
   "id": "9bf75f5c8cdf7905"
  },
  {
   "cell_type": "code",
   "execution_count": 8,
   "outputs": [
    {
     "name": "stdout",
     "output_type": "stream",
     "text": [
      "3.14\n"
     ]
    }
   ],
   "source": [
    "print(round(3.14159, 2))  # Outputs 3.14"
   ],
   "metadata": {
    "collapsed": false,
    "ExecuteTime": {
     "end_time": "2023-12-05T19:32:39.692043500Z",
     "start_time": "2023-12-05T19:32:39.666363500Z"
    }
   },
   "id": "7cf41fc2b2a25781"
  },
  {
   "cell_type": "markdown",
   "source": [
    "- `min()` and `max()`: Return the smallest and largest of the input values, respectively.\n",
    "\n",
    "Example:"
   ],
   "metadata": {
    "collapsed": false
   },
   "id": "94823e1d6231f161"
  },
  {
   "cell_type": "code",
   "execution_count": 9,
   "outputs": [
    {
     "name": "stdout",
     "output_type": "stream",
     "text": [
      "1\n",
      "3\n"
     ]
    }
   ],
   "source": [
    "print(min(1, 2, 3))  # Outputs 1\n",
    "print(max(1, 2, 3))  # Outputs 3"
   ],
   "metadata": {
    "collapsed": false,
    "ExecuteTime": {
     "end_time": "2023-12-05T19:33:36.480492800Z",
     "start_time": "2023-12-05T19:33:36.433101700Z"
    }
   },
   "id": "5722b6c64ad67bfb"
  },
  {
   "cell_type": "markdown",
   "source": [
    "## Practice Exercises for Day 5\n",
    "\n",
    "1. Exercise 1: Write a program to calculate the area of a circle, taking the radius as input from the user.\n",
    "2. Exercise 2: Create a simple interest calculator.\n",
    "3. Exercise 3: Write a program that takes two numbers as input and prints their sum, difference, product, quotient, and remainder."
   ],
   "metadata": {
    "collapsed": false
   },
   "id": "eabef92eca193338"
  },
  {
   "cell_type": "markdown",
   "source": [
    "## Tips for Practice\n",
    "\n",
    "- Experiment with different combinations of numbers and operators to see how Python handles arithmetic operations.\n",
    "- Try using these arithmetic operations in practical examples or mini-projects.\n",
    "- Understand how Python handles division by zero and other edge cases."
   ],
   "metadata": {
    "collapsed": false
   },
   "id": "1da15118c4ca2d58"
  }
 ],
 "metadata": {
  "kernelspec": {
   "display_name": "Python 3",
   "language": "python",
   "name": "python3"
  },
  "language_info": {
   "codemirror_mode": {
    "name": "ipython",
    "version": 2
   },
   "file_extension": ".py",
   "mimetype": "text/x-python",
   "name": "python",
   "nbconvert_exporter": "python",
   "pygments_lexer": "ipython2",
   "version": "2.7.6"
  }
 },
 "nbformat": 4,
 "nbformat_minor": 5
}
