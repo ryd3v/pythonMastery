{
 "cells": [
  {
   "cell_type": "markdown",
   "source": [
    "Day 1: Introduction to Python and Environment Setup\n",
    "Objectives:\n",
    "- Understand what Python is and its uses\n",
    "- Install Python and set up the development environment\n",
    "\n",
    "Tasks:\n",
    "\n",
    "1. Research Python: Spend 30 minutes reading about Python. Focus on its history, \n",
    "importance, and areas of application.\n",
    "\n",
    "2. Install Python:\n",
    "    - Visit [python.org](https://www.python.org/downloads/) and download the latest version of Python.\n",
    "    - Follow the installation instructions. Make sure to check the option that says \"Add Python to PATH\" during installation.\n",
    "\n",
    "3. Set up a Code Editor\n",
    "    - Install a code editor like Visual Studio Code, PyCharm, or whichever one you are comfortable with.\n",
    "    - Familiarize yourself with the basic features of the editor.\n",
    "\n",
    "4. Hello World Program:\n",
    "    - Write your first Python program:\n",
    "    - Run the program"
   ],
   "metadata": {
    "collapsed": false
   },
   "id": "3414b0d85396c52d"
  },
  {
   "cell_type": "code",
   "execution_count": 1,
   "outputs": [
    {
     "name": "stdout",
     "output_type": "stream",
     "text": [
      "Hello, World!\n"
     ]
    }
   ],
   "source": [
    "print(\"Hello, World!\")"
   ],
   "metadata": {
    "collapsed": false,
    "ExecuteTime": {
     "end_time": "2023-12-03T07:36:15.208555200Z",
     "start_time": "2023-12-03T07:36:15.192070600Z"
    }
   },
   "id": "11759494b2bc7968"
  },
  {
   "cell_type": "markdown",
   "source": [
    "5. Explore the Python Shell:\n",
    "    - Open the Python shell(IDLE) and experiment with simple commands like arithmetic operations."
   ],
   "metadata": {
    "collapsed": false
   },
   "id": "e7149b14bd342275"
  }
 ],
 "metadata": {
  "kernelspec": {
   "display_name": "Python 3",
   "language": "python",
   "name": "python3"
  },
  "language_info": {
   "codemirror_mode": {
    "name": "ipython",
    "version": 2
   },
   "file_extension": ".py",
   "mimetype": "text/x-python",
   "name": "python",
   "nbconvert_exporter": "python",
   "pygments_lexer": "ipython2",
   "version": "2.7.6"
  }
 },
 "nbformat": 4,
 "nbformat_minor": 5
}
