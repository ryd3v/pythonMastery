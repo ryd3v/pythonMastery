{
 "cells": [
  {
   "cell_type": "markdown",
   "source": [
    "# Day 1: \n",
    "\n",
    "## Introduction to Python and Environment Setup\n",
    "\n",
    "### Objectives:\n",
    "\n",
    "- Understand what Python is and its uses\n",
    "- Install Python and set up the development environment\n",
    "\n",
    "### Tasks:\n",
    "\n",
    "1. Research Python: Spend 30 minutes reading about Python. Focus on its history, \n",
    "importance, and areas of application.\n",
    "\n",
    "2. Install Python:\n",
    "    - Visit [python.org](https://www.python.org/downloads/) and download the latest version of Python.\n",
    "    - Follow the installation instructions. Make sure to check the option that says \"Add Python to PATH\" during installation.\n",
    "\n",
    "3. Set up a Code Editor\n",
    "    - Install a code editor like Visual Studio Code, PyCharm, or whichever one you are comfortable with.\n",
    "    - Familiarize yourself with the basic features of the editor.\n",
    "\n",
    "4. Hello World Program:\n",
    "    - Write your first Python program:\n",
    "    - Run the program\n",
    "        \n",
    "5. Explore the Python Shell:\n",
    "    - Open the Python shell(IDLE) and experiment with simple commands like arithmetic operations."
   ],
   "metadata": {
    "collapsed": false
   },
   "id": "3414b0d85396c52d"
  },
  {
   "cell_type": "code",
   "execution_count": 2,
   "outputs": [
    {
     "name": "stdout",
     "output_type": "stream",
     "text": [
      "Hello, World!\n"
     ]
    }
   ],
   "source": [
    "print(\"Hello, World!\")"
   ],
   "metadata": {
    "collapsed": false,
    "ExecuteTime": {
     "end_time": "2023-12-03T16:58:21.594265800Z",
     "start_time": "2023-12-03T16:58:21.576650200Z"
    }
   },
   "id": "11759494b2bc7968"
  },
  {
   "cell_type": "markdown",
   "source": [
    "### 1: The history of Python\n",
    "\n",
    "Python was created in the early 1990s by Guido van Rossum at Stichting Mathematisch Centrum (CWI, see https://www.cwi.nl/) in the Netherlands as a successor of a language called ABC. Guido remains Python’s principal author, although it includes many contributions from others.\n",
    "\n",
    "In 1995, Guido continued his work on Python at the Corporation for National Research Initiatives (CNRI, see https://www.cnri.reston.va.us/) in Reston, Virginia where he released several versions of the software.\n",
    "\n",
    "In May 2000, Guido and the Python core development team moved to BeOpen.com to form the BeOpen PythonLabs team. In October of the same year, the PythonLabs team moved to Digital Creations (now Zope Corporation; see https://www.zope.org/). In 2001, the Python Software Foundation (PSF, see https://www.python.org/psf/) was formed, a non-profit organization created specifically to own Python-related Intellectual Property. Zope Corporation is a sponsoring member of the PSF.\n",
    "\n",
    "[Source: History of the software](https://docs.python.org/3/license.html#history-of-the-software)\n"
   ],
   "metadata": {
    "collapsed": false
   },
   "id": "da2ffe6ffd5ea59b"
  },
  {
   "cell_type": "code",
   "execution_count": null,
   "outputs": [],
   "source": [],
   "metadata": {
    "collapsed": false
   },
   "id": "b4dbf7ffc4fdb4af"
  }
 ],
 "metadata": {
  "kernelspec": {
   "display_name": "Python 3",
   "language": "python",
   "name": "python3"
  },
  "language_info": {
   "codemirror_mode": {
    "name": "ipython",
    "version": 2
   },
   "file_extension": ".py",
   "mimetype": "text/x-python",
   "name": "python",
   "nbconvert_exporter": "python",
   "pygments_lexer": "ipython2",
   "version": "2.7.6"
  }
 },
 "nbformat": 4,
 "nbformat_minor": 5
}
