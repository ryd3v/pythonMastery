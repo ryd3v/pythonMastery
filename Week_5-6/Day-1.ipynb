{
 "cells": [
  {
   "cell_type": "markdown",
   "metadata": {},
   "source": [
    "## Week 5\n",
    "### Functions\n",
    "\n",
    "Day 1 Learn about Functions\n",
    "- Learn to write functions \n",
    "- understand scope, and pass arguments. \n",
    "- Explore built-in functions"
   ]
  }
 ],
 "metadata": {
  "language_info": {
   "name": "python"
  }
 },
 "nbformat": 4,
 "nbformat_minor": 2
}
