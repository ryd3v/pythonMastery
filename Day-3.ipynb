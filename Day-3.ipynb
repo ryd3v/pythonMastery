{
 "cells": [
  {
   "cell_type": "markdown",
   "source": [
    "# Day 3: \n",
    "\n",
    "## Basic Input/Output and String Manipulation\n",
    "\n",
    "### Objectives:\n",
    "\n",
    "   - Learn how to take input from the user.\n",
    "   - Perform basic string manipulation.\n",
    "\n",
    "### Tasks:\n",
    "\n",
    "   1. Input and Output:\n",
    "        - Use the input() function to get user input.\n",
    "        - Practice printing out messages and variables with the print() function.\n",
    "\n",
    "   2. String Basics:\n",
    "        - Understand how to declare and manipulate strings.\n",
    "        - Learn about string concatenation, indexing, and slicing.\n",
    "\n",
    "   3. String Formatting:\n",
    "        - Practice string formatting methods for cleaner output.\n",
    "\n",
    "   4. Mini-Project:\n",
    "        - Create a simple project like a program that asks the user their name and age, then prints a message tailored to them."
   ],
   "metadata": {
    "collapsed": false
   },
   "id": "69d7c30fdf02001e"
  }
 ],
 "metadata": {
  "kernelspec": {
   "display_name": "Python 3",
   "language": "python",
   "name": "python3"
  },
  "language_info": {
   "codemirror_mode": {
    "name": "ipython",
    "version": 2
   },
   "file_extension": ".py",
   "mimetype": "text/x-python",
   "name": "python",
   "nbconvert_exporter": "python",
   "pygments_lexer": "ipython2",
   "version": "2.7.6"
  }
 },
 "nbformat": 4,
 "nbformat_minor": 5
}
