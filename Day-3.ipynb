{
 "cells": [
  {
   "cell_type": "markdown",
   "source": [
    "# Day 3: \n",
    "\n",
    "## Basic Input/Output and String Manipulation\n",
    "\n",
    "### Objectives:\n",
    "\n",
    "   - Learn how to take input from the user.\n",
    "   - Perform basic string manipulation.\n",
    "\n",
    "### Tasks:\n",
    "\n",
    "   1. Input and Output:\n",
    "        - Use the input() function to get user input.\n",
    "        - Practice printing out messages and variables with the print() function.\n",
    "\n",
    "   2. String Basics:\n",
    "        - Understand how to declare and manipulate strings.\n",
    "        - Learn about string concatenation, indexing, and slicing.\n",
    "\n",
    "   3. String Formatting:\n",
    "        - Practice string formatting methods for cleaner output.\n",
    "\n",
    "   4. Mini-Project:\n",
    "        - Create a simple project like a program that asks the user their name and age, then prints a message tailored to them."
   ],
   "metadata": {
    "collapsed": false
   },
   "id": "69d7c30fdf02001e"
  },
  {
   "cell_type": "markdown",
   "source": [
    "## Basic Input/Output\n",
    "\n",
    "### Input\n",
    "\n",
    "- The `input()` function is used to take input from the user. By default, all inputs are read as a string.\n",
    "\n",
    "Example"
   ],
   "metadata": {
    "collapsed": false
   },
   "id": "2f6487fe7eb85c9f"
  },
  {
   "cell_type": "code",
   "execution_count": 1,
   "outputs": [
    {
     "name": "stdout",
     "output_type": "stream",
     "text": [
      "Hello, Ryan\n"
     ]
    }
   ],
   "source": [
    "name = input(\"Enter your name: \")\n",
    "print(\"Hello, \" + name)\n"
   ],
   "metadata": {
    "collapsed": false,
    "ExecuteTime": {
     "end_time": "2023-12-03T17:40:46.353381900Z",
     "start_time": "2023-12-03T17:40:43.170501200Z"
    }
   },
   "id": "25bd162ffdc90aed"
  },
  {
   "cell_type": "markdown",
   "source": [
    "### Output\n",
    "\n",
    "- The `print()` function is used for output. It sends data to the console.\n",
    "\n",
    "Example:"
   ],
   "metadata": {
    "collapsed": false
   },
   "id": "37754b1902735500"
  },
  {
   "cell_type": "code",
   "execution_count": 2,
   "outputs": [
    {
     "name": "stdout",
     "output_type": "stream",
     "text": [
      "This is an output message.\n"
     ]
    }
   ],
   "source": [
    "print(\"This is an output message.\")\n"
   ],
   "metadata": {
    "collapsed": false,
    "ExecuteTime": {
     "end_time": "2023-12-03T17:41:45.767652500Z",
     "start_time": "2023-12-03T17:41:45.760211700Z"
    }
   },
   "id": "c1d4d696005da3ae"
  },
  {
   "cell_type": "markdown",
   "source": [
    "## String Manipulation\n",
    "\n",
    "### String Basics\n",
    "\n",
    "- Strings in Python are arrays of bytes representing Unicode characters. You can access elements of the string by indexing.\n",
    "\n",
    "Example:"
   ],
   "metadata": {
    "collapsed": false
   },
   "id": "8829364efa33b795"
  },
  {
   "cell_type": "code",
   "execution_count": 3,
   "outputs": [
    {
     "name": "stdout",
     "output_type": "stream",
     "text": [
      "e\n"
     ]
    }
   ],
   "source": [
    "a = \"Hello, World!\"\n",
    "print(a[1])  # 'e'\n"
   ],
   "metadata": {
    "collapsed": false,
    "ExecuteTime": {
     "end_time": "2023-12-03T17:43:12.211511500Z",
     "start_time": "2023-12-03T17:43:12.202973500Z"
    }
   },
   "id": "7f238212b559541c"
  },
  {
   "cell_type": "markdown",
   "source": [
    "### String Concatenation\n",
    "\n",
    "- You can combine strings using the `+` operator.\n",
    "\n",
    "Example:"
   ],
   "metadata": {
    "collapsed": false
   },
   "id": "534b352afebda263"
  },
  {
   "cell_type": "code",
   "execution_count": 4,
   "outputs": [
    {
     "name": "stdout",
     "output_type": "stream",
     "text": [
      "Hello Alice\n"
     ]
    }
   ],
   "source": [
    "greeting = \"Hello\"\n",
    "name = \"Alice\"\n",
    "message = greeting + \" \" + name\n",
    "print(message)  # \"Hello Alice\"\n"
   ],
   "metadata": {
    "collapsed": false,
    "ExecuteTime": {
     "end_time": "2023-12-03T17:44:03.086164900Z",
     "start_time": "2023-12-03T17:44:03.078111400Z"
    }
   },
   "id": "ea38d4b4942a9183"
  },
  {
   "cell_type": "markdown",
   "source": [
    "### Indexing and Slicing\n",
    "\n",
    "- You can access parts of strings by indexing and slicing. Indexing starts at 0.\n",
    "\n",
    "Example:"
   ],
   "metadata": {
    "collapsed": false
   },
   "id": "aeda0873d74546f2"
  },
  {
   "cell_type": "code",
   "execution_count": 5,
   "outputs": [
    {
     "name": "stdout",
     "output_type": "stream",
     "text": [
      "Hello\n"
     ]
    }
   ],
   "source": [
    "text = \"Hello, World!\"\n",
    "print(text[0:5])  # \"Hello\"\n"
   ],
   "metadata": {
    "collapsed": false,
    "ExecuteTime": {
     "end_time": "2023-12-03T17:44:54.227121700Z",
     "start_time": "2023-12-03T17:44:54.217028500Z"
    }
   },
   "id": "500e0cd859943f4d"
  },
  {
   "cell_type": "markdown",
   "source": [
    "### String Formatting\n",
    "\n",
    "- Python provides several methods to format strings.\n",
    "\n",
    "Example using `format()`"
   ],
   "metadata": {
    "collapsed": false
   },
   "id": "8cbe8540d3f5f6f9"
  },
  {
   "cell_type": "code",
   "execution_count": 6,
   "outputs": [
    {
     "name": "stdout",
     "output_type": "stream",
     "text": [
      "My name is John, and I am 25\n"
     ]
    }
   ],
   "source": [
    "age = 25\n",
    "txt = \"My name is John, and I am {}\"\n",
    "print(txt.format(age))  # \"My name is John, and I am 25\"\n"
   ],
   "metadata": {
    "collapsed": false,
    "ExecuteTime": {
     "end_time": "2023-12-03T17:46:10.900151200Z",
     "start_time": "2023-12-03T17:46:10.875449600Z"
    }
   },
   "id": "1e9a2e0ce214d1a5"
  },
  {
   "cell_type": "markdown",
   "source": [
    "## Mini-Project: Simple User Interaction Program\n",
    "\n",
    "### Objective: \n",
    "\n",
    "Create a program that asks the user for their name and age, then prints a personalized message.\n",
    "\n",
    "Example code:"
   ],
   "metadata": {
    "collapsed": false
   },
   "id": "a23133248489db4b"
  },
  {
   "cell_type": "code",
   "execution_count": 1,
   "outputs": [
    {
     "name": "stdout",
     "output_type": "stream",
     "text": [
      "Hello Ryan! You are 500 years old.\n"
     ]
    }
   ],
   "source": [
    "name = input(\"Enter your name: \")\n",
    "age = input(\"Enter your age: \")\n",
    "print(\"Hello \" + name + \"! You are \" + age + \" years old.\")\n"
   ],
   "metadata": {
    "collapsed": false,
    "ExecuteTime": {
     "end_time": "2023-12-04T04:06:00.869278100Z",
     "start_time": "2023-12-04T04:05:53.128120600Z"
    }
   },
   "id": "ba2aea287537ae85"
  },
  {
   "cell_type": "markdown",
   "source": [
    "## Practice Exercises for Day 3:\n",
    "\n",
    "1. Input and Output: Write a program that asks the user to enter their favorite color and prints a message like \"Your favorite color is `[color]`\".\n",
    "2. String Slicing: Take a string and print its first half and second half separately.\n",
    "3. Formatted Strings: Experiment with formatted strings to create a neatly formatted output of user data."
   ],
   "metadata": {
    "collapsed": false
   },
   "id": "609dca3458efe927"
  },
  {
   "cell_type": "markdown",
   "source": [
    "## Tips for Day 3:\n",
    "\n",
    "- Explore String Methods: Python has many built-in string methods like `upper()`, `lower()`, `strip()`, `replace()`, etc. Try some of these to understand their use.\n",
    "- Play with Indexes: Try negative indexing and explore different slicing techniques.\n",
    "- Error Exploration:  If you encounter errors, try to understand and fix them. It's a great learning opportunity."
   ],
   "metadata": {
    "collapsed": false
   },
   "id": "bd50bbae57f99240"
  },
  {
   "cell_type": "code",
   "execution_count": null,
   "outputs": [],
   "source": [],
   "metadata": {
    "collapsed": false
   },
   "id": "d97b676482dae202"
  }
 ],
 "metadata": {
  "kernelspec": {
   "display_name": "Python 3",
   "language": "python",
   "name": "python3"
  },
  "language_info": {
   "codemirror_mode": {
    "name": "ipython",
    "version": 2
   },
   "file_extension": ".py",
   "mimetype": "text/x-python",
   "name": "python",
   "nbconvert_exporter": "python",
   "pygments_lexer": "ipython2",
   "version": "2.7.6"
  }
 },
 "nbformat": 4,
 "nbformat_minor": 5
}
