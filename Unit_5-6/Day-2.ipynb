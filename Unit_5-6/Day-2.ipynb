{
 "cells": [
  {
   "cell_type": "markdown",
   "source": [
    "## Week 5\n",
    "### Day 2:\n",
    "### Error Handling\n",
    "- Basics of error and exception handling. \n",
    "- Understand try-except blocks."
   ],
   "metadata": {
    "collapsed": false
   },
   "id": "6296236c56d73b4c"
  },
  {
   "cell_type": "markdown",
   "source": [
    "Error and exception handling are important aspects of ensuring that your program runs smoothly and can handle unexpected events that can occur during its execution. In Python, errors and exceptions are handled using the try, except, finally, and raise statements."
   ],
   "metadata": {
    "collapsed": false
   },
   "id": "a9e11a1a0a89bbed"
  },
  {
   "cell_type": "markdown",
   "source": [
    "### Syntax Errors\n",
    "Syntax errors, also known as parsing errors, are perhaps the most common kind of complaint you get while you are learning Python:"
   ],
   "metadata": {
    "collapsed": false
   },
   "id": "4c9b8697245c25ce"
  },
  {
   "cell_type": "code",
   "outputs": [
    {
     "ename": "SyntaxError",
     "evalue": "invalid syntax (3511958662.py, line 1)",
     "output_type": "error",
     "traceback": [
      "\u001B[0;36m  Cell \u001B[0;32mIn[1], line 1\u001B[0;36m\u001B[0m\n\u001B[0;31m    while True print('Hello world')\u001B[0m\n\u001B[0m               ^\u001B[0m\n\u001B[0;31mSyntaxError\u001B[0m\u001B[0;31m:\u001B[0m invalid syntax\n"
     ]
    }
   ],
   "source": [
    "while True print('Hello world')"
   ],
   "metadata": {
    "collapsed": false,
    "ExecuteTime": {
     "end_time": "2024-01-23T17:47:47.374941499Z",
     "start_time": "2024-01-23T17:47:47.370871370Z"
    }
   },
   "id": "e0183b7eb7d813d4",
   "execution_count": 1
  },
  {
   "cell_type": "markdown",
   "source": [
    "This would yield:"
   ],
   "metadata": {
    "collapsed": false
   },
   "id": "c5e0e6e99278efc2"
  },
  {
   "cell_type": "code",
   "outputs": [],
   "source": [
    "  File \"<stdin>\", line 1\n",
    "while True print('Hello world')\n",
    "^\n",
    "SyntaxError: invalid syntax"
   ],
   "metadata": {
    "collapsed": false
   },
   "id": "b567e836f160435f",
   "execution_count": null
  },
  {
   "cell_type": "markdown",
   "source": [
    "The parser repeats the offending line and displays a little ‘arrow’ pointing at the earliest point in the line where the error was detected."
   ],
   "metadata": {
    "collapsed": false
   },
   "id": "17aaa6abc5e99539"
  },
  {
   "cell_type": "markdown",
   "source": [
    "### Exceptions\n",
    "Even if a statement or expression is syntactically correct, it may cause an error when an attempt is made to execute it. Errors detected during execution are called exceptions. Exceptions come in different types, and the type is printed as part of the message:"
   ],
   "metadata": {
    "collapsed": false
   },
   "id": "c8d058f33c72bfa1"
  },
  {
   "cell_type": "code",
   "outputs": [],
   "source": [
    "10 * (1/0)"
   ],
   "metadata": {
    "collapsed": false
   },
   "id": "c41036f35c28fe61",
   "execution_count": null
  },
  {
   "cell_type": "code",
   "outputs": [],
   "source": [
    "Traceback (most recent call last):\n",
    "File \"<stdin>\", line 1, in <module>\n",
    "ZeroDivisionError: division by zero"
   ],
   "metadata": {
    "collapsed": false
   },
   "id": "17897d827474c5bd",
   "execution_count": null
  },
  {
   "cell_type": "markdown",
   "source": [
    "### Handling Exceptions\n",
    "It is possible to write programs that handle selected exceptions. For example:"
   ],
   "metadata": {
    "collapsed": false
   },
   "id": "12148cf50754651"
  },
  {
   "cell_type": "code",
   "outputs": [
    {
     "name": "stdout",
     "output_type": "stream",
     "text": [
      "Attempted to divide by zero.\n"
     ]
    }
   ],
   "source": [
    "try:\n",
    "    # Your code goes here.\n",
    "    x = 1 / 0\n",
    "except ZeroDivisionError:\n",
    "    # Handle the exception.\n",
    "    print(\"Attempted to divide by zero.\")"
   ],
   "metadata": {
    "collapsed": false,
    "ExecuteTime": {
     "end_time": "2024-01-23T17:50:19.984024161Z",
     "start_time": "2024-01-23T17:50:19.942581050Z"
    }
   },
   "id": "c0a04ba8b3bf464a",
   "execution_count": 5
  },
  {
   "cell_type": "markdown",
   "source": [
    "In this example, the code within the try block is executed. If a ZeroDivisionError happens, the code within the except block is run. If no exception occurs, the except block is skipped.\n",
    "\n",
    "There can be more than one except clause, to specify handlers for different exceptions. At most one handler will be executed."
   ],
   "metadata": {
    "collapsed": false
   },
   "id": "5be7c3f9103715c2"
  },
  {
   "cell_type": "markdown",
   "source": [
    "### The finally Clause\n",
    "In Python, the finally clause lets you specify a section of code to be executed, no matter how the try block exits. For example:"
   ],
   "metadata": {
    "collapsed": false
   },
   "id": "f66486f7280dde61"
  },
  {
   "cell_type": "code",
   "outputs": [],
   "source": [
    "try:\n",
    "    # Your code goes here.\n",
    "    x = 1 / 0\n",
    "finally:\n",
    "    # This code executes regardless.\n",
    "    print(\"Cleanup code goes here.\")"
   ],
   "metadata": {
    "collapsed": false
   },
   "id": "611534f500e09c1a",
   "execution_count": null
  },
  {
   "cell_type": "markdown",
   "source": [
    "In this code, whether or not an exception happens in the try block, the finally block will be executed."
   ],
   "metadata": {
    "collapsed": false
   },
   "id": "afadfd59fad1fa73"
  },
  {
   "cell_type": "markdown",
   "source": [
    "### Raising Exceptions\n",
    "The raise statement allows the programmer to force a specified exception to occur. For example:"
   ],
   "metadata": {
    "collapsed": false
   },
   "id": "24268c8703e8501"
  },
  {
   "cell_type": "code",
   "outputs": [],
   "source": [
    "raise NameError('HiThere')"
   ],
   "metadata": {
    "collapsed": false
   },
   "id": "1993946e1a444da4",
   "execution_count": null
  },
  {
   "cell_type": "code",
   "outputs": [],
   "source": [
    "Traceback (most recent call last):\n",
    "File \"<stdin>\", line 1, in <module>\n",
    "NameError: HiThere"
   ],
   "metadata": {
    "collapsed": false
   },
   "id": "d1bc0f221852ec87",
   "execution_count": null
  },
  {
   "cell_type": "markdown",
   "source": [
    "Error and exception handling in Python allows for the creation of programs that can handle unexpected inputs and recover gracefully from errors. For more information, the official Python documentation provides a [detailed guide](https://docs.python.org/3/tutorial/errors.html)."
   ],
   "metadata": {
    "collapsed": false
   },
   "id": "6f756ccb32cb44c6"
  },
  {
   "cell_type": "markdown",
   "source": [
    "### Additional points\n",
    "\n",
    "1. Multiple Exceptions: You can handle multiple exceptions by using multiple except statements:\n",
    "\n",
    "    try: # your code here x = function_that_throws_errors() except FirstError: # Handle the first type of error. handle_first_error() except SecondError: # Handle the second type of error. handle_second_error() \n",
    "\n",
    "    Alternatively, you can catch multiple exceptions in one line:\n",
    "\n",
    "    try: # your code here x = function_that_throws_errors() except (FirstError, SecondError) as e: # Handle the error. handle_error(e)\n",
    "\n",
    "2. Capturing the Exception Instance: \n",
    "    The syntax except Exception as e is used to capture the exception instance:\n",
    "\n",
    "    try: # your code here x = function_that_throws_errors() except Exception as e: print('An error occurred:', e) \n",
    "\n",
    "3. The else Clause: else clause in try-except block is optional and has to be coded after all the exceptions. The code enters the else block only if the try clause does not raise an exception:\n",
    "\n",
    "    try: # your code here except Exception: # this code executes if an exception occurs else: # this code executes if no exception occurs\n",
    "    \n",
    "4. Catching All Exceptions: If you're not sure what exception the code will throw, you can catch all exceptions. This isn't a best practice because it can hide errors you haven't anticipated. However, the Syntax is:\n",
    "\n",
    "    try: # your code here except: # this will catch all exceptions \n",
    "\n",
    "5. Raising exceptions: You can also raise an exception in your code by using the raise statement. This statement allows you to exit the program or interrupt program flow when the error condition occurs.\n",
    "\n",
    "6. Nested Exceptions: try-except blocks can be nested to handle different exceptions at various levels."
   ],
   "metadata": {
    "collapsed": false
   },
   "id": "8faa3ec42c1d3d07"
  }
 ],
 "metadata": {
  "kernelspec": {
   "display_name": "Python 3",
   "language": "python",
   "name": "python3"
  },
  "language_info": {
   "codemirror_mode": {
    "name": "ipython",
    "version": 2
   },
   "file_extension": ".py",
   "mimetype": "text/x-python",
   "name": "python",
   "nbconvert_exporter": "python",
   "pygments_lexer": "ipython2",
   "version": "2.7.6"
  }
 },
 "nbformat": 4,
 "nbformat_minor": 5
}
